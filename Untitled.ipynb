{
 "cells": [
  {
   "cell_type": "code",
   "execution_count": 1,
   "id": "0167efb0",
   "metadata": {},
   "outputs": [],
   "source": [
    "import numpy as np\n",
    "import pandas as pd\n",
    "import matplotlib.pyplot as plt"
   ]
  },
  {
   "cell_type": "code",
   "execution_count": 2,
   "id": "691c8e2c",
   "metadata": {},
   "outputs": [],
   "source": [
    "import torch\n",
    "from torchvision import datasets, transforms, models  # datsets  , transforms\n",
    "from torch.utils.data.sampler import SubsetRandomSampler\n",
    "import torch.nn as nn\n",
    "import torch.nn.functional as F\n",
    "from datetime import datetime"
   ]
  },
  {
   "cell_type": "code",
   "execution_count": 3,
   "id": "561bf9af",
   "metadata": {},
   "outputs": [],
   "source": [
    "transform = transforms.Compose(\n",
    "    [transforms.Resize(255), transforms.CenterCrop(224), transforms.ToTensor()]\n",
    ")"
   ]
  },
  {
   "cell_type": "code",
   "execution_count": 4,
   "id": "fba8f0c2",
   "metadata": {},
   "outputs": [],
   "source": [
    "dataset = datasets.ImageFolder(\"dataset\", transform=transform)"
   ]
  },
  {
   "cell_type": "code",
   "execution_count": 5,
   "id": "321e7fe1",
   "metadata": {},
   "outputs": [
    {
     "data": {
      "text/plain": [
       "Dataset ImageFolder\n",
       "    Number of datapoints: 2970\n",
       "    Root location: dataset\n",
       "    StandardTransform\n",
       "Transform: Compose(\n",
       "               Resize(size=255, interpolation=bilinear, max_size=None, antialias=None)\n",
       "               CenterCrop(size=(224, 224))\n",
       "               ToTensor()\n",
       "           )"
      ]
     },
     "execution_count": 5,
     "metadata": {},
     "output_type": "execute_result"
    }
   ],
   "source": [
    "dataset\n"
   ]
  },
  {
   "cell_type": "code",
   "execution_count": 6,
   "id": "242d064e",
   "metadata": {},
   "outputs": [],
   "source": [
    "indices = list(range(len(dataset)))\n"
   ]
  },
  {
   "cell_type": "code",
   "execution_count": 7,
   "id": "8d83fb88",
   "metadata": {},
   "outputs": [],
   "source": [
    "split = int(np.floor(0.85 * len(dataset)))  # train_size"
   ]
  },
  {
   "cell_type": "code",
   "execution_count": 8,
   "id": "aa7b8b5f",
   "metadata": {},
   "outputs": [],
   "source": [
    "validation = int(np.floor(0.70 * split))  # validation"
   ]
  },
  {
   "cell_type": "code",
   "execution_count": 9,
   "id": "9c290fe9",
   "metadata": {},
   "outputs": [
    {
     "name": "stdout",
     "output_type": "stream",
     "text": [
      "0 1766 2524 2970\n"
     ]
    }
   ],
   "source": [
    "print(0, validation, split, len(dataset))"
   ]
  },
  {
   "cell_type": "code",
   "execution_count": 10,
   "id": "c9a62dcc",
   "metadata": {},
   "outputs": [
    {
     "name": "stdout",
     "output_type": "stream",
     "text": [
      "length of train size :1766\n",
      "length of validation size :758\n",
      "length of test size :1204\n"
     ]
    }
   ],
   "source": [
    "print(f\"length of train size :{validation}\")\n",
    "print(f\"length of validation size :{split - validation}\")\n",
    "print(f\"length of test size :{len(dataset)-validation}\")"
   ]
  },
  {
   "cell_type": "code",
   "execution_count": 11,
   "id": "d580dd36",
   "metadata": {},
   "outputs": [],
   "source": [
    "np.random.shuffle(indices)"
   ]
  },
  {
   "cell_type": "code",
   "execution_count": 12,
   "id": "994173d7",
   "metadata": {},
   "outputs": [],
   "source": [
    "train_indices, validation_indices, test_indices = (\n",
    "    indices[:validation],\n",
    "    indices[validation:split],\n",
    "    indices[split:],\n",
    ")"
   ]
  },
  {
   "cell_type": "code",
   "execution_count": 13,
   "id": "aab9f394",
   "metadata": {},
   "outputs": [],
   "source": [
    "train_sampler = SubsetRandomSampler(train_indices)\n",
    "validation_sampler = SubsetRandomSampler(validation_indices)\n",
    "test_sampler = SubsetRandomSampler(test_indices)"
   ]
  },
  {
   "cell_type": "code",
   "execution_count": 14,
   "id": "f385b8ab",
   "metadata": {},
   "outputs": [],
   "source": [
    "targets_size = len(dataset.class_to_idx)"
   ]
  },
  {
   "cell_type": "code",
   "execution_count": 15,
   "id": "76a2bb53",
   "metadata": {},
   "outputs": [
    {
     "data": {
      "text/plain": [
       "10"
      ]
     },
     "execution_count": 15,
     "metadata": {},
     "output_type": "execute_result"
    }
   ],
   "source": [
    "targets_size"
   ]
  },
  {
   "cell_type": "code",
   "execution_count": 16,
   "id": "32906a96",
   "metadata": {},
   "outputs": [],
   "source": [
    "class CNN(nn.Module):\n",
    "    def __init__(self, K):\n",
    "        super(CNN, self).__init__()\n",
    "        self.conv_layers = nn.Sequential(\n",
    "            # conv1\n",
    "            nn.Conv2d(in_channels=3, out_channels=32, kernel_size=3, padding=1),\n",
    "            nn.ReLU(),\n",
    "            nn.BatchNorm2d(32),\n",
    "            nn.Conv2d(in_channels=32, out_channels=32, kernel_size=3, padding=1),\n",
    "            nn.ReLU(),\n",
    "            nn.BatchNorm2d(32),\n",
    "            nn.MaxPool2d(2),\n",
    "            # conv2\n",
    "            nn.Conv2d(in_channels=32, out_channels=64, kernel_size=3, padding=1),\n",
    "            nn.ReLU(),\n",
    "            nn.BatchNorm2d(64),\n",
    "            nn.Conv2d(in_channels=64, out_channels=64, kernel_size=3, padding=1),\n",
    "            nn.ReLU(),\n",
    "            nn.BatchNorm2d(64),\n",
    "            nn.MaxPool2d(2),\n",
    "            # conv3\n",
    "            nn.Conv2d(in_channels=64, out_channels=128, kernel_size=3, padding=1),\n",
    "            nn.ReLU(),\n",
    "            nn.BatchNorm2d(128),\n",
    "            nn.Conv2d(in_channels=128, out_channels=128, kernel_size=3, padding=1),\n",
    "            nn.ReLU(),\n",
    "            nn.BatchNorm2d(128),\n",
    "            nn.MaxPool2d(2),\n",
    "            # conv4\n",
    "            nn.Conv2d(in_channels=128, out_channels=256, kernel_size=3, padding=1),\n",
    "            nn.ReLU(),\n",
    "            nn.BatchNorm2d(256),\n",
    "            nn.Conv2d(in_channels=256, out_channels=256, kernel_size=3, padding=1),\n",
    "            nn.ReLU(),\n",
    "            nn.BatchNorm2d(256),\n",
    "            nn.MaxPool2d(2),\n",
    "        )\n",
    "\n",
    "        self.dense_layers = nn.Sequential(\n",
    "            nn.Dropout(0.4),\n",
    "            nn.Linear(50176, 1024),\n",
    "            nn.ReLU(),\n",
    "            nn.Dropout(0.4),\n",
    "            nn.Linear(1024, K),\n",
    "        )\n",
    "\n",
    "    def forward(self, X):\n",
    "        out = self.conv_layers(X)\n",
    "\n",
    "        # Flatten\n",
    "        out = out.view(-1, 50176)\n",
    "\n",
    "        # Fully connected\n",
    "        out = self.dense_layers(out)\n",
    "\n",
    "        return out"
   ]
  },
  {
   "cell_type": "code",
   "execution_count": 17,
   "id": "05c67a39",
   "metadata": {},
   "outputs": [
    {
     "name": "stdout",
     "output_type": "stream",
     "text": [
      "cpu\n"
     ]
    }
   ],
   "source": [
    "device = torch.device(\"cuda\" if torch.cuda.is_available() else \"cpu\")\n",
    "print(device)"
   ]
  },
  {
   "cell_type": "code",
   "execution_count": 18,
   "id": "ae43886b",
   "metadata": {},
   "outputs": [],
   "source": [
    "device = \"cpu\""
   ]
  },
  {
   "cell_type": "code",
   "execution_count": 19,
   "id": "9fe9e782",
   "metadata": {},
   "outputs": [],
   "source": [
    "model = CNN(targets_size)"
   ]
  },
  {
   "cell_type": "code",
   "execution_count": 20,
   "id": "2086cb87",
   "metadata": {},
   "outputs": [
    {
     "data": {
      "text/plain": [
       "CNN(\n",
       "  (conv_layers): Sequential(\n",
       "    (0): Conv2d(3, 32, kernel_size=(3, 3), stride=(1, 1), padding=(1, 1))\n",
       "    (1): ReLU()\n",
       "    (2): BatchNorm2d(32, eps=1e-05, momentum=0.1, affine=True, track_running_stats=True)\n",
       "    (3): Conv2d(32, 32, kernel_size=(3, 3), stride=(1, 1), padding=(1, 1))\n",
       "    (4): ReLU()\n",
       "    (5): BatchNorm2d(32, eps=1e-05, momentum=0.1, affine=True, track_running_stats=True)\n",
       "    (6): MaxPool2d(kernel_size=2, stride=2, padding=0, dilation=1, ceil_mode=False)\n",
       "    (7): Conv2d(32, 64, kernel_size=(3, 3), stride=(1, 1), padding=(1, 1))\n",
       "    (8): ReLU()\n",
       "    (9): BatchNorm2d(64, eps=1e-05, momentum=0.1, affine=True, track_running_stats=True)\n",
       "    (10): Conv2d(64, 64, kernel_size=(3, 3), stride=(1, 1), padding=(1, 1))\n",
       "    (11): ReLU()\n",
       "    (12): BatchNorm2d(64, eps=1e-05, momentum=0.1, affine=True, track_running_stats=True)\n",
       "    (13): MaxPool2d(kernel_size=2, stride=2, padding=0, dilation=1, ceil_mode=False)\n",
       "    (14): Conv2d(64, 128, kernel_size=(3, 3), stride=(1, 1), padding=(1, 1))\n",
       "    (15): ReLU()\n",
       "    (16): BatchNorm2d(128, eps=1e-05, momentum=0.1, affine=True, track_running_stats=True)\n",
       "    (17): Conv2d(128, 128, kernel_size=(3, 3), stride=(1, 1), padding=(1, 1))\n",
       "    (18): ReLU()\n",
       "    (19): BatchNorm2d(128, eps=1e-05, momentum=0.1, affine=True, track_running_stats=True)\n",
       "    (20): MaxPool2d(kernel_size=2, stride=2, padding=0, dilation=1, ceil_mode=False)\n",
       "    (21): Conv2d(128, 256, kernel_size=(3, 3), stride=(1, 1), padding=(1, 1))\n",
       "    (22): ReLU()\n",
       "    (23): BatchNorm2d(256, eps=1e-05, momentum=0.1, affine=True, track_running_stats=True)\n",
       "    (24): Conv2d(256, 256, kernel_size=(3, 3), stride=(1, 1), padding=(1, 1))\n",
       "    (25): ReLU()\n",
       "    (26): BatchNorm2d(256, eps=1e-05, momentum=0.1, affine=True, track_running_stats=True)\n",
       "    (27): MaxPool2d(kernel_size=2, stride=2, padding=0, dilation=1, ceil_mode=False)\n",
       "  )\n",
       "  (dense_layers): Sequential(\n",
       "    (0): Dropout(p=0.4, inplace=False)\n",
       "    (1): Linear(in_features=50176, out_features=1024, bias=True)\n",
       "    (2): ReLU()\n",
       "    (3): Dropout(p=0.4, inplace=False)\n",
       "    (4): Linear(in_features=1024, out_features=10, bias=True)\n",
       "  )\n",
       ")"
      ]
     },
     "execution_count": 20,
     "metadata": {},
     "output_type": "execute_result"
    }
   ],
   "source": [
    "model.to(device)"
   ]
  },
  {
   "cell_type": "code",
   "execution_count": 21,
   "id": "589c90f4",
   "metadata": {},
   "outputs": [
    {
     "name": "stdout",
     "output_type": "stream",
     "text": [
      "----------------------------------------------------------------\n",
      "        Layer (type)               Output Shape         Param #\n",
      "================================================================\n",
      "            Conv2d-1         [-1, 32, 224, 224]             896\n",
      "              ReLU-2         [-1, 32, 224, 224]               0\n",
      "       BatchNorm2d-3         [-1, 32, 224, 224]              64\n",
      "            Conv2d-4         [-1, 32, 224, 224]           9,248\n",
      "              ReLU-5         [-1, 32, 224, 224]               0\n",
      "       BatchNorm2d-6         [-1, 32, 224, 224]              64\n",
      "         MaxPool2d-7         [-1, 32, 112, 112]               0\n",
      "            Conv2d-8         [-1, 64, 112, 112]          18,496\n",
      "              ReLU-9         [-1, 64, 112, 112]               0\n",
      "      BatchNorm2d-10         [-1, 64, 112, 112]             128\n",
      "           Conv2d-11         [-1, 64, 112, 112]          36,928\n",
      "             ReLU-12         [-1, 64, 112, 112]               0\n",
      "      BatchNorm2d-13         [-1, 64, 112, 112]             128\n",
      "        MaxPool2d-14           [-1, 64, 56, 56]               0\n",
      "           Conv2d-15          [-1, 128, 56, 56]          73,856\n",
      "             ReLU-16          [-1, 128, 56, 56]               0\n",
      "      BatchNorm2d-17          [-1, 128, 56, 56]             256\n",
      "           Conv2d-18          [-1, 128, 56, 56]         147,584\n",
      "             ReLU-19          [-1, 128, 56, 56]               0\n",
      "      BatchNorm2d-20          [-1, 128, 56, 56]             256\n",
      "        MaxPool2d-21          [-1, 128, 28, 28]               0\n",
      "           Conv2d-22          [-1, 256, 28, 28]         295,168\n",
      "             ReLU-23          [-1, 256, 28, 28]               0\n",
      "      BatchNorm2d-24          [-1, 256, 28, 28]             512\n",
      "           Conv2d-25          [-1, 256, 28, 28]         590,080\n",
      "             ReLU-26          [-1, 256, 28, 28]               0\n",
      "      BatchNorm2d-27          [-1, 256, 28, 28]             512\n",
      "        MaxPool2d-28          [-1, 256, 14, 14]               0\n",
      "          Dropout-29                [-1, 50176]               0\n",
      "           Linear-30                 [-1, 1024]      51,381,248\n",
      "             ReLU-31                 [-1, 1024]               0\n",
      "          Dropout-32                 [-1, 1024]               0\n",
      "           Linear-33                   [-1, 10]          10,250\n",
      "================================================================\n",
      "Total params: 52,565,674\n",
      "Trainable params: 52,565,674\n",
      "Non-trainable params: 0\n",
      "----------------------------------------------------------------\n",
      "Input size (MB): 0.57\n",
      "Forward/backward pass size (MB): 143.96\n",
      "Params size (MB): 200.52\n",
      "Estimated Total Size (MB): 345.06\n",
      "----------------------------------------------------------------\n"
     ]
    }
   ],
   "source": [
    "from torchsummary import summary\n",
    "\n",
    "summary(model, (3, 224, 224))"
   ]
  },
  {
   "cell_type": "code",
   "execution_count": 22,
   "id": "a0671f98",
   "metadata": {},
   "outputs": [],
   "source": [
    "criterion = nn.CrossEntropyLoss()  # this include softmax + cross entropy loss\n",
    "optimizer = torch.optim.Adam(model.parameters())"
   ]
  },
  {
   "cell_type": "code",
   "execution_count": 23,
   "id": "c4374372",
   "metadata": {},
   "outputs": [],
   "source": [
    "def batch_gd(model, criterion, train_loader, test_laoder, epochs):\n",
    "    train_losses = np.zeros(epochs)\n",
    "    validation_losses = np.zeros(epochs)\n",
    "\n",
    "    for e in range(epochs):\n",
    "        t0 = datetime.now()\n",
    "        train_loss = []\n",
    "        for inputs, targets in train_loader:\n",
    "            inputs, targets = inputs.to(device), targets.to(device)\n",
    "\n",
    "            optimizer.zero_grad()\n",
    "\n",
    "            output = model(inputs)\n",
    "\n",
    "            loss = criterion(output, targets)\n",
    "\n",
    "            train_loss.append(loss.item())  # torch to numpy world\n",
    "\n",
    "            loss.backward()\n",
    "            optimizer.step()\n",
    "\n",
    "        train_loss = np.mean(train_loss)\n",
    "\n",
    "        validation_loss = []\n",
    "\n",
    "        for inputs, targets in validation_loader:\n",
    "\n",
    "            inputs, targets = inputs.to(device), targets.to(device)\n",
    "\n",
    "            output = model(inputs)\n",
    "\n",
    "            loss = criterion(output, targets)\n",
    "\n",
    "            validation_loss.append(loss.item())  # torch to numpy world\n",
    "\n",
    "        validation_loss = np.mean(validation_loss)\n",
    "\n",
    "        train_losses[e] = train_loss\n",
    "        validation_losses[e] = validation_loss\n",
    "\n",
    "        dt = datetime.now() - t0\n",
    "\n",
    "        print(\n",
    "            f\"Epoch : {e+1}/{epochs} Train_loss:{train_loss:.3f} Test_loss:{validation_loss:.3f} Duration:{dt}\"\n",
    "        )\n",
    "\n",
    "    return train_losses, validation_losses"
   ]
  },
  {
   "cell_type": "code",
   "execution_count": 24,
   "id": "2ce3a3d7",
   "metadata": {},
   "outputs": [],
   "source": [
    "batch_size = 64\n",
    "train_loader = torch.utils.data.DataLoader(\n",
    "    dataset, batch_size=batch_size, sampler=train_sampler\n",
    ")\n",
    "test_loader = torch.utils.data.DataLoader(\n",
    "    dataset, batch_size=batch_size, sampler=test_sampler\n",
    ")\n",
    "validation_loader = torch.utils.data.DataLoader(\n",
    "    dataset, batch_size=batch_size, sampler=validation_sampler\n",
    ")"
   ]
  },
  {
   "cell_type": "code",
   "execution_count": 25,
   "id": "55c8c917",
   "metadata": {},
   "outputs": [
    {
     "name": "stdout",
     "output_type": "stream",
     "text": [
      "Epoch : 1/10 Train_loss:4.065 Test_loss:1.636 Duration:0:26:19.529959\n",
      "Epoch : 2/10 Train_loss:0.871 Test_loss:0.947 Duration:0:09:54.520067\n",
      "Epoch : 3/10 Train_loss:0.650 Test_loss:0.732 Duration:0:08:45.400162\n",
      "Epoch : 4/10 Train_loss:0.359 Test_loss:0.628 Duration:0:08:40.676316\n",
      "Epoch : 5/10 Train_loss:0.458 Test_loss:0.827 Duration:0:08:44.923392\n",
      "Epoch : 6/10 Train_loss:0.292 Test_loss:0.695 Duration:0:08:50.775376\n",
      "Epoch : 7/10 Train_loss:0.247 Test_loss:0.470 Duration:0:08:35.778689\n",
      "Epoch : 8/10 Train_loss:0.179 Test_loss:0.536 Duration:0:09:51.512408\n",
      "Epoch : 9/10 Train_loss:0.174 Test_loss:0.547 Duration:0:08:32.732267\n",
      "Epoch : 10/10 Train_loss:0.204 Test_loss:0.666 Duration:0:08:32.113824\n"
     ]
    }
   ],
   "source": [
    "train_losses, validation_losses = batch_gd(\n",
    "    model, criterion, train_loader, validation_loader, 10\n",
    ")"
   ]
  },
  {
   "cell_type": "code",
   "execution_count": 27,
   "id": "85da6d81",
   "metadata": {},
   "outputs": [],
   "source": [
    "torch.save(model.state_dict() , 'plant_disease_model_1.pt')"
   ]
  },
  {
   "cell_type": "code",
   "execution_count": 28,
   "id": "7b318fc5",
   "metadata": {},
   "outputs": [
    {
     "data": {
      "text/plain": [
       "CNN(\n",
       "  (conv_layers): Sequential(\n",
       "    (0): Conv2d(3, 32, kernel_size=(3, 3), stride=(1, 1), padding=(1, 1))\n",
       "    (1): ReLU()\n",
       "    (2): BatchNorm2d(32, eps=1e-05, momentum=0.1, affine=True, track_running_stats=True)\n",
       "    (3): Conv2d(32, 32, kernel_size=(3, 3), stride=(1, 1), padding=(1, 1))\n",
       "    (4): ReLU()\n",
       "    (5): BatchNorm2d(32, eps=1e-05, momentum=0.1, affine=True, track_running_stats=True)\n",
       "    (6): MaxPool2d(kernel_size=2, stride=2, padding=0, dilation=1, ceil_mode=False)\n",
       "    (7): Conv2d(32, 64, kernel_size=(3, 3), stride=(1, 1), padding=(1, 1))\n",
       "    (8): ReLU()\n",
       "    (9): BatchNorm2d(64, eps=1e-05, momentum=0.1, affine=True, track_running_stats=True)\n",
       "    (10): Conv2d(64, 64, kernel_size=(3, 3), stride=(1, 1), padding=(1, 1))\n",
       "    (11): ReLU()\n",
       "    (12): BatchNorm2d(64, eps=1e-05, momentum=0.1, affine=True, track_running_stats=True)\n",
       "    (13): MaxPool2d(kernel_size=2, stride=2, padding=0, dilation=1, ceil_mode=False)\n",
       "    (14): Conv2d(64, 128, kernel_size=(3, 3), stride=(1, 1), padding=(1, 1))\n",
       "    (15): ReLU()\n",
       "    (16): BatchNorm2d(128, eps=1e-05, momentum=0.1, affine=True, track_running_stats=True)\n",
       "    (17): Conv2d(128, 128, kernel_size=(3, 3), stride=(1, 1), padding=(1, 1))\n",
       "    (18): ReLU()\n",
       "    (19): BatchNorm2d(128, eps=1e-05, momentum=0.1, affine=True, track_running_stats=True)\n",
       "    (20): MaxPool2d(kernel_size=2, stride=2, padding=0, dilation=1, ceil_mode=False)\n",
       "    (21): Conv2d(128, 256, kernel_size=(3, 3), stride=(1, 1), padding=(1, 1))\n",
       "    (22): ReLU()\n",
       "    (23): BatchNorm2d(256, eps=1e-05, momentum=0.1, affine=True, track_running_stats=True)\n",
       "    (24): Conv2d(256, 256, kernel_size=(3, 3), stride=(1, 1), padding=(1, 1))\n",
       "    (25): ReLU()\n",
       "    (26): BatchNorm2d(256, eps=1e-05, momentum=0.1, affine=True, track_running_stats=True)\n",
       "    (27): MaxPool2d(kernel_size=2, stride=2, padding=0, dilation=1, ceil_mode=False)\n",
       "  )\n",
       "  (dense_layers): Sequential(\n",
       "    (0): Dropout(p=0.4, inplace=False)\n",
       "    (1): Linear(in_features=50176, out_features=1024, bias=True)\n",
       "    (2): ReLU()\n",
       "    (3): Dropout(p=0.4, inplace=False)\n",
       "    (4): Linear(in_features=1024, out_features=10, bias=True)\n",
       "  )\n",
       ")"
      ]
     },
     "execution_count": 28,
     "metadata": {},
     "output_type": "execute_result"
    }
   ],
   "source": [
    "targets_size = 10\n",
    "model = CNN(targets_size)\n",
    "model.load_state_dict(torch.load(\"plant_disease_model_1.pt\"))\n",
    "model.eval()"
   ]
  },
  {
   "cell_type": "code",
   "execution_count": null,
   "id": "696a501d",
   "metadata": {},
   "outputs": [],
   "source": []
  },
  {
   "cell_type": "code",
   "execution_count": 29,
   "id": "6fabdca9",
   "metadata": {},
   "outputs": [],
   "source": [
    "def accuracy(loader):\n",
    "    n_correct = 0\n",
    "    n_total = 0\n",
    "\n",
    "    for inputs, targets in loader:\n",
    "        inputs, targets = inputs.to(device), targets.to(device)\n",
    "\n",
    "        outputs = model(inputs)\n",
    "\n",
    "        _, predictions = torch.max(outputs, 1)\n",
    "        print(_)\n",
    "        print(predictions)\n",
    "\n",
    "        n_correct += (predictions == targets).sum().item()\n",
    "        n_total += targets.shape[0]\n",
    "\n",
    "    acc = n_correct / n_total\n",
    "    return acc"
   ]
  },
  {
   "cell_type": "code",
   "execution_count": 30,
   "id": "16eb93df",
   "metadata": {},
   "outputs": [
    {
     "name": "stdout",
     "output_type": "stream",
     "text": [
      "tensor([  31.3664,   22.2347,   44.7874,  400.8528,   23.0323,   15.2724,\n",
      "          34.7348,   57.8184,   20.4535,   12.1688,  284.2408,  920.7140,\n",
      "          20.5391,   15.5804,   18.8353,   34.8406,   11.8628,    9.9037,\n",
      "          10.4615,   15.5414,   12.8696,   48.4738,   29.9694,   17.3695,\n",
      "          18.3733,   38.2524,   17.8370,   50.1285,   20.4276,   17.0080,\n",
      "          75.1704,   31.8245,   44.0795,   17.0509,   21.1366,   56.0511,\n",
      "        1367.6077,  383.9783,   34.4852,   12.0052,   77.6101,   17.2947,\n",
      "           6.1296,   29.5259,  939.7651,   15.7178,   21.3077,  530.1444,\n",
      "          12.6990,    9.1018,   64.9022,   13.7970,   27.9527,   23.2244,\n",
      "          13.1406,   12.5620,  995.9719,   16.0003,   16.4140,  559.0074,\n",
      "          70.2692,   22.6316,   85.5723,   17.2510], grad_fn=<MaxBackward0>)\n",
      "tensor([3, 7, 9, 4, 0, 0, 5, 5, 6, 2, 4, 4, 0, 0, 0, 5, 0, 7, 2, 2, 3, 5, 9, 0,\n",
      "        0, 3, 0, 5, 6, 1, 5, 3, 8, 1, 3, 8, 4, 4, 5, 2, 5, 9, 8, 8, 4, 1, 6, 4,\n",
      "        7, 2, 9, 7, 3, 9, 7, 7, 4, 7, 6, 4, 5, 6, 5, 2])\n",
      "tensor([   7.6176,   11.0595,   56.6606,   68.8621,   16.3549, 1308.8145,\n",
      "           9.1687,    9.0472,   18.2573,   33.9452,  608.4055,   25.0864,\n",
      "        1389.6617,   21.1742,  100.8641,   13.2544,    8.3208,   24.7001,\n",
      "          15.3374,   16.2020,   17.2359,   30.4108,   18.4133,   11.1165,\n",
      "          19.1748,   23.6373,   14.8521,   16.0289,  113.6648,   17.5156,\n",
      "          11.7690,   49.5644,   11.1354, 1774.3591,   10.7255,   21.5382,\n",
      "          63.7798,  488.4327,   22.5902,   12.9948,   17.6214,   33.1238,\n",
      "          13.1645,   40.6630,  460.4030,  990.9147,   15.8051,   16.9918,\n",
      "          72.3030,   58.7913,   17.1955,   42.4507,   12.4530,   35.6394,\n",
      "          23.0065,   54.3164,   64.0676,  327.4193,   12.4945,   13.4344,\n",
      "           9.6062,   59.6078,   32.0446,   13.6848], grad_fn=<MaxBackward0>)\n",
      "tensor([1, 0, 3, 5, 0, 4, 0, 1, 0, 8, 4, 6, 4, 1, 8, 6, 9, 1, 0, 0, 2, 9, 1, 1,\n",
      "        2, 6, 6, 3, 5, 8, 5, 5, 1, 4, 1, 6, 5, 4, 1, 2, 0, 3, 3, 2, 4, 4, 1, 2,\n",
      "        5, 5, 1, 9, 3, 8, 2, 5, 5, 4, 0, 8, 1, 5, 6, 0])\n",
      "tensor([  80.7645,   29.5141,   21.6945,   21.3809, 1505.7783,   33.4474,\n",
      "          21.3004,   10.3221,   18.1065,   31.5628,   21.4041,  608.9680,\n",
      "          15.7931,   11.6999,   16.9307,   64.3487,   58.8571,   33.6383,\n",
      "          16.5236,  962.2228,   14.0733,   20.2640,   11.2670, 1384.1086,\n",
      "          31.6253,   40.3494,   17.1258,   15.2801,   15.3840,   11.3066,\n",
      "          19.3331,   22.9713,    6.3929,   22.9437,   26.3683,   17.3873,\n",
      "          23.4490,   20.9035,   14.4704,    5.9206,   44.3985,   26.4915,\n",
      "          16.8610,   10.3925,   57.8456,   13.6213, 1496.2915,   34.0686,\n",
      "          14.6357,   23.1357,   40.4007,   10.7318,   11.3327, 1265.3296,\n",
      "          32.4052,  627.0237,   25.8656,   28.2860,   63.1820,   13.2853,\n",
      "          12.8924,   12.4586,   30.2596,   35.0214], grad_fn=<MaxBackward0>)\n",
      "tensor([8, 3, 9, 9, 4, 8, 9, 1, 9, 3, 0, 4, 1, 2, 9, 8, 5, 3, 0, 4, 0, 6, 3, 4,\n",
      "        1, 8, 3, 9, 6, 7, 0, 2, 7, 1, 8, 7, 1, 6, 2, 1, 3, 3, 6, 2, 8, 3, 4, 3,\n",
      "        7, 2, 3, 7, 1, 4, 9, 4, 8, 1, 8, 7, 1, 7, 3, 9])\n",
      "tensor([  26.3529, 1285.6104,   13.0279,   19.4293,   14.5856,   23.9723,\n",
      "          14.3392, 1216.1833,   13.0229,   16.2020,   13.0964,   21.4261,\n",
      "          48.8151,   35.1034,   15.9049,   43.7399,   49.4297,   69.8628,\n",
      "          26.3639,    8.7975,   32.5911,   11.8374,   11.1900,   10.4519,\n",
      "          81.8634,   16.3477,  802.7272,   35.1362,   48.2182,  826.6924,\n",
      "          66.7106,   10.2162,   36.7630,   21.5457,   21.4406,   14.1135,\n",
      "         891.1993,   45.4675,   23.6594,   19.2964,   14.0017,   22.6300,\n",
      "          24.4039,   24.3977,   19.4326,   19.4048,   14.6657,   13.8185,\n",
      "          15.3093,    8.4176,   15.6703,   16.2194,  792.2656,   55.3387,\n",
      "        1492.4441,   22.4615,   19.7860,   15.4382,   73.3552,   14.7440,\n",
      "          20.4430,   23.8756,   15.3506,   47.3688], grad_fn=<MaxBackward0>)\n",
      "tensor([8, 4, 2, 6, 8, 1, 9, 4, 1, 0, 0, 0, 3, 3, 0, 3, 8, 5, 9, 3, 9, 2, 0, 7,\n",
      "        5, 0, 4, 8, 5, 4, 5, 2, 9, 0, 8, 6, 4, 5, 2, 1, 1, 6, 6, 3, 6, 1, 2, 1,\n",
      "        1, 7, 1, 2, 4, 9, 4, 6, 8, 7, 5, 7, 8, 9, 6, 9])\n",
      "tensor([  29.8490,   96.6785, 1121.2159,   10.8667,   35.1997,   24.9370,\n",
      "          14.5565,   52.6036,   55.8351,   13.1598,   29.8375,   28.6124,\n",
      "        1468.4357,   17.8102,   16.0632, 1577.3512,   10.9429,   18.6356,\n",
      "          15.8485,   20.0969,   18.0374,   15.2396,   29.6336,   44.5156,\n",
      "         564.6157,    9.3633,   36.4807, 1190.7559,   30.4644,   16.8979,\n",
      "          18.4223,   19.0305,  319.5563,   10.6013,   57.3374,   22.9603,\n",
      "          28.8825,   13.3033,  301.2516,  413.2714,    8.4783,   38.8754,\n",
      "          67.2708,   26.4965,   14.8033,   16.8081,   54.8876,   15.7958,\n",
      "         653.1273,   25.8841,   60.1368,   19.4919,   32.5509,   57.3987,\n",
      "          21.3649,   98.3317,   22.2632,   15.3877,  660.9748,   17.0680,\n",
      "          10.3968,   53.9288,   11.8793,   34.9981], grad_fn=<MaxBackward0>)\n",
      "tensor([3, 5, 4, 9, 9, 6, 0, 5, 9, 0, 9, 3, 4, 0, 9, 4, 1, 7, 0, 6, 2, 7, 3, 3,\n",
      "        4, 1, 8, 4, 3, 0, 3, 8, 4, 1, 8, 6, 8, 0, 4, 4, 6, 8, 5, 6, 1, 7, 9, 0,\n",
      "        4, 6, 5, 2, 5, 5, 8, 8, 9, 7, 4, 3, 0, 9, 1, 9])\n",
      "tensor([  21.4719,  503.4977,   16.9972,    7.9892,   22.7816,   30.4292,\n",
      "          27.4004,   14.2837,   57.8273,   28.4704,    8.5432,   11.5763,\n",
      "           6.7432,    4.4303,   14.0842,   17.8578, 1248.5182,   49.4080,\n",
      "          16.3088,   14.8681,   16.0947,   23.6857,   54.4870,   40.8173,\n",
      "          35.3717, 1277.7310,   17.5301,  302.1767,   12.3846,   14.1862,\n",
      "          75.6289,   27.0030, 1014.2668,   10.7022,    8.6937, 1294.7827,\n",
      "           5.4074,   30.4098,   55.3917,   23.9239,   27.9111,   31.4423,\n",
      "          30.9800,   61.1753,   21.8548,   19.2977,   20.6818,  120.4779,\n",
      "          12.8595,    9.1234,   46.5312,   28.1425,   18.3551,   14.0741,\n",
      "          92.7157,  342.1854,   26.5079,   51.1770,   15.5024,   11.4277,\n",
      "          43.8243,    7.8208,   24.9897,   20.7313], grad_fn=<MaxBackward0>)\n",
      "tensor([0, 4, 2, 1, 6, 3, 8, 7, 5, 1, 6, 7, 1, 3, 7, 3, 4, 5, 2, 2, 0, 6, 8, 5,\n",
      "        9, 4, 6, 4, 9, 3, 8, 3, 4, 1, 7, 4, 7, 3, 8, 8, 3, 3, 3, 5, 8, 0, 1, 4,\n",
      "        2, 0, 5, 2, 6, 0, 5, 4, 9, 8, 0, 1, 3, 3, 8, 2])\n",
      "tensor([  14.0039,   18.6635,   75.1995,  762.2349,   23.4104,   11.6536,\n",
      "          44.2102,   37.5297,   33.6126,   20.6107, 1543.8331,   10.2958,\n",
      "          77.6609,   48.6071,   13.1956,   32.7983,   15.7649,   11.0616,\n",
      "          93.4526,   15.0291,    8.7088,   75.7891,   14.1903,   89.5544,\n",
      "          17.5668,   29.5192,   14.6495,   13.5282,   53.0884,   19.1437,\n",
      "          56.4724,  236.4253,   45.8555,   65.0811,   28.8726,   15.6042,\n",
      "          13.2774,   53.3995,   25.2553,   31.0719,   70.2714,   42.4178,\n",
      "          55.2294,   30.4796,   12.7436,   18.4319,   18.2280,   29.7218,\n",
      "          17.8305,   45.2193,   18.6551,   22.6635,   76.3436,    9.4036,\n",
      "          14.6624,  617.5965,   10.8421,   15.4517,    6.7067,   19.7591,\n",
      "        1068.5769,   27.0846,   19.5214,   27.2129], grad_fn=<MaxBackward0>)\n",
      "tensor([3, 3, 5, 4, 2, 0, 9, 3, 9, 2, 4, 6, 5, 5, 0, 2, 7, 0, 8, 9, 1, 5, 0, 5,\n",
      "        1, 2, 7, 2, 5, 0, 8, 4, 5, 5, 3, 0, 0, 5, 1, 3, 5, 9, 5, 3, 1, 1, 0, 9,\n",
      "        6, 3, 0, 2, 5, 6, 8, 4, 7, 7, 3, 8, 4, 3, 9, 1])\n",
      "tensor([  19.2877,   11.8086,   19.9472,   22.1821,   22.8116,   17.0672,\n",
      "          15.7432,   35.4788,   62.1225,  337.1197,   19.2488,   41.2682,\n",
      "          17.5248,   42.7992,   19.4527,   11.4567,   15.0486,   35.3301,\n",
      "          15.9113,   12.9267,    9.2941,   76.2365, 1110.3752,   12.5321,\n",
      "          42.6914,   18.7377,   25.7913,   16.3835,   26.3862,    9.5826,\n",
      "         103.6394,  480.5260,   11.1191, 1371.3093,   18.7822, 1386.3112,\n",
      "          14.9241,   15.5266,   11.6011,   73.3569,   18.5287,   10.6246,\n",
      "          20.1265,    9.0880,   18.0198,   16.3498,   14.5648,   16.0056,\n",
      "          23.2851,   13.1353, 1394.8851,  691.0026,   20.2342,   24.6698,\n",
      "          16.8187,   11.9063,   10.0127,   16.7002,   27.1373,   29.6133,\n",
      "          13.9934,    9.6675, 1123.7513,   13.9966], grad_fn=<MaxBackward0>)\n",
      "tensor([2, 7, 2, 6, 3, 7, 2, 8, 8, 4, 2, 9, 6, 9, 6, 2, 3, 9, 2, 0, 2, 5, 4, 2,\n",
      "        5, 6, 5, 2, 6, 7, 5, 4, 8, 4, 0, 4, 7, 0, 8, 9, 8, 2, 2, 0, 6, 5, 7, 8,\n",
      "        3, 6, 4, 4, 3, 9, 6, 7, 7, 7, 1, 3, 7, 6, 4, 7])\n"
     ]
    },
    {
     "name": "stdout",
     "output_type": "stream",
     "text": [
      "tensor([ 30.6707,  20.6075,  32.9925,  15.4714,  13.1292,  68.0457,  18.2384,\n",
      "         86.6724,  32.4914,  52.6032,  20.4823,  54.5269,  19.6368,   8.9519,\n",
      "         11.6899,  44.5436,  40.1145,  15.6862, 911.1044,  21.2933,  20.2350,\n",
      "         14.6640, 415.7805,  42.1639,   9.1154,  15.3133,  13.3759,  14.1123,\n",
      "          7.7318,  16.9682,  15.7219,  14.2906,  20.0205,  19.5782,  13.6395,\n",
      "         25.8286,  15.0218,  16.0861, 636.2217,  17.6301,   8.9402,  53.6870,\n",
      "         21.9116,  22.2930,  45.6619,  18.9180,  29.3271,   8.9906,  11.0610,\n",
      "         17.0241,  17.1267,  14.3283,  18.7758, 804.6765,  68.4396,  18.6161,\n",
      "         19.4091,  24.3538,  13.2633,  18.4505,  13.0800,  35.1306,  16.3477,\n",
      "         14.9591], grad_fn=<MaxBackward0>)\n",
      "tensor([3, 6, 3, 7, 0, 5, 2, 5, 3, 9, 3, 5, 2, 6, 7, 8, 9, 1, 4, 1, 6, 0, 4, 9,\n",
      "        9, 0, 6, 0, 3, 0, 2, 2, 6, 6, 2, 3, 3, 1, 4, 0, 8, 5, 6, 1, 8, 0, 1, 3,\n",
      "        0, 3, 0, 2, 3, 4, 8, 6, 6, 3, 1, 9, 1, 9, 0, 6])\n",
      "tensor([ 411.8450,   11.6221,    8.0076, 1144.3412,   16.7157,   13.9956,\n",
      "          17.6971,   38.0651, 1717.6317,   45.1413,   14.0227,  430.9200,\n",
      "           7.6440,    6.7249,    9.8401,   16.9574,   42.3000, 1504.2495,\n",
      "          16.3811,   30.5133,   17.9654,   23.2106,   55.1458,   26.3950,\n",
      "          23.4012,   18.5655,   10.1742,   13.7613,   21.3713,   14.2506,\n",
      "          51.9466,   59.7626,   18.6489,   32.1326,   92.3966,   15.6394,\n",
      "        1478.7808,   55.1893,   18.9678,  519.6094,   46.8139,  874.1256,\n",
      "          30.0763,   30.4403,   41.8200,    9.7012,   10.7936,   10.5518,\n",
      "          16.9682,   24.8426,   15.5400,   69.3877,   14.2762,    8.7378,\n",
      "          57.5964,   29.2997,   22.1616,  861.8582,   11.9374,   33.1183,\n",
      "          15.5711, 1708.0610,   18.1132,   23.1413], grad_fn=<MaxBackward0>)\n",
      "tensor([4, 7, 1, 4, 1, 1, 7, 8, 4, 5, 3, 4, 1, 7, 0, 1, 2, 4, 0, 3, 8, 3, 8, 2,\n",
      "        2, 1, 8, 6, 6, 0, 5, 8, 1, 9, 5, 2, 4, 3, 1, 4, 8, 4, 2, 9, 8, 1, 3, 6,\n",
      "        0, 1, 1, 5, 7, 3, 9, 9, 6, 4, 7, 8, 0, 4, 7, 3])\n",
      "tensor([   8.7283,   19.3273,   53.5936,   36.8011, 1355.5099,   32.3750,\n",
      "          19.3537,  967.6009,   13.3033,   17.7950,   21.9818,   17.5303,\n",
      "          12.1889,   60.0188,   18.5673,   25.9989,   71.4518,   11.2966,\n",
      "         281.5941,   17.6264,   14.0927,   13.7286,   12.7280,   17.6776,\n",
      "          65.2226,    9.2615,   26.5456,   47.1144,   29.1134,   17.1769,\n",
      "          10.0305,   26.4080,   13.2981,   12.5781,  637.2427,   20.1899,\n",
      "           9.0548,   14.5948,  683.3401,   30.1612,   16.8913,   23.1623,\n",
      "          32.8125,   15.5908,   20.9579, 1205.8562,   57.5328,   17.4335,\n",
      "          23.2263,   10.9619,  446.4725,   14.8956,   40.8909,  470.3671,\n",
      "          32.6904,   17.7414,   24.3457,   60.8977,  608.0001,    8.2668,\n",
      "          29.9241,   18.8426,   10.7321,   20.2219], grad_fn=<MaxBackward0>)\n",
      "tensor([0, 1, 5, 3, 4, 9, 2, 4, 0, 7, 3, 2, 7, 8, 0, 3, 5, 2, 4, 3, 9, 6, 2, 7,\n",
      "        5, 1, 3, 5, 9, 9, 1, 3, 0, 8, 4, 0, 7, 7, 4, 9, 9, 9, 5, 2, 8, 4, 5, 6,\n",
      "        6, 7, 4, 8, 8, 4, 8, 6, 8, 5, 4, 1, 9, 6, 0, 1])\n",
      "tensor([  16.1425,   16.4466,   11.7072,   26.2163,   11.2130,   31.3352,\n",
      "          18.0668,   12.9912,   19.8700,   14.4801,   66.8498,   16.5771,\n",
      "          41.1702,   22.7908,  400.1148,   23.6785,   17.0814,   17.0322,\n",
      "          17.6892,   38.8625,   19.2964,   29.9077,   38.2733,   13.1434,\n",
      "          13.2855,   17.6328,   67.9131,   18.2393,  281.7124,   43.1993,\n",
      "          14.6165,   12.6014,   23.0119,   20.0111,    8.5205,   16.3721,\n",
      "          21.5148,   22.6271,   18.5437,   14.6683, 1126.3118,   65.5877,\n",
      "           8.6351,   23.8726,   25.5943,   17.5046, 1302.9050,   50.2458,\n",
      "          46.6030,   18.7645,   14.8687,   54.5916,    9.8404,   17.6071,\n",
      "          25.9735,   88.6732,   64.5390,  928.1986,   66.7527,    8.2898,\n",
      "        1473.1415,  740.6260,  755.0604,   21.4510], grad_fn=<MaxBackward0>)\n",
      "tensor([3, 9, 2, 3, 7, 9, 3, 1, 1, 7, 5, 6, 5, 6, 4, 3, 0, 0, 0, 9, 6, 6, 8, 1,\n",
      "        6, 7, 5, 2, 4, 3, 2, 0, 9, 0, 2, 2, 3, 3, 0, 3, 4, 5, 0, 1, 9, 7, 4, 5,\n",
      "        9, 0, 3, 9, 7, 7, 3, 5, 5, 4, 5, 6, 4, 4, 4, 6])\n",
      "tensor([  12.5583,   50.1633,   20.5263,   16.5607,   19.3872,   21.9699,\n",
      "          28.9026,   19.6850,   43.3156, 1092.7036,   53.4328,   66.3593,\n",
      "          70.0502,   18.3424,   22.3748,   43.9701,   16.9233,   17.8894,\n",
      "          25.2087,   29.9168,   17.1299,   28.2458,   73.1347,   20.8647,\n",
      "          59.3160,   15.7991,   14.7561,   10.3300,   33.7798,   35.7690,\n",
      "          34.3189,    6.0355,   32.0750,   31.7929,   16.5164,   54.6569,\n",
      "          19.1597,   73.5623,   27.6780,   21.9889,   13.4083,   41.2939,\n",
      "          13.1139,   16.9105,    9.4264,   19.9966, 1272.8507,   21.9304,\n",
      "          30.0522,   23.6267,   74.5245,   17.7267,    9.1142,   18.6918,\n",
      "          37.7982,   74.5463,   11.3098,  668.1075,   22.8180,  509.9807,\n",
      "          16.2755,   31.1580,   87.3911,    4.9667], grad_fn=<MaxBackward0>)\n",
      "tensor([2, 9, 2, 2, 8, 0, 9, 9, 3, 4, 5, 5, 8, 3, 9, 5, 3, 2, 1, 3, 8, 3, 5, 0,\n",
      "        5, 6, 7, 6, 8, 9, 1, 6, 3, 3, 6, 9, 7, 5, 1, 8, 8, 8, 0, 2, 1, 2, 4, 6,\n",
      "        6, 9, 5, 7, 1, 8, 8, 5, 6, 4, 6, 4, 0, 3, 5, 7])\n",
      "tensor([  44.1706,   61.2446, 1065.3683,   13.5529,   22.2855,   29.1929,\n",
      "          17.2465,    8.6292,   17.0643,   20.1819,   30.6919,   10.2578,\n",
      "          17.6519,  811.7833,   26.8748,   18.3531,   27.4251,   20.6618,\n",
      "          21.0781,   24.3539, 1326.8630,   13.8811, 1980.2422,   16.2884,\n",
      "          15.0790, 1468.3690, 1215.6641,   21.6949, 1147.3472,   71.9814,\n",
      "          70.7761,   25.7637,    8.2885,   16.5707,   12.8166,   14.1728,\n",
      "          16.6040,   14.7228,   45.3927,   13.7979,   12.0656,   21.8865,\n",
      "          35.6693,   43.3662,   12.9744,   20.6024,   13.7089,   18.6446,\n",
      "          29.0348,   60.0144,   17.3226,   81.8326,   24.3792,   40.6951,\n",
      "          31.7205,   16.5919,    9.2629,   29.4326,   21.9646,   30.7669,\n",
      "          20.1651,   46.5089,   43.2035,   21.8946], grad_fn=<MaxBackward0>)\n",
      "tensor([5, 8, 4, 3, 9, 9, 6, 7, 0, 3, 8, 0, 6, 4, 3, 7, 8, 2, 3, 8, 4, 8, 4, 0,\n",
      "        9, 4, 4, 0, 4, 8, 8, 9, 7, 2, 6, 3, 1, 1, 9, 1, 7, 6, 2, 5, 2, 2, 1, 6,\n",
      "        3, 5, 0, 9, 9, 9, 9, 0, 8, 3, 1, 8, 8, 3, 3, 0])\n",
      "tensor([  13.3939,   29.4092,   15.7465, 1859.5145,   38.7734,   15.4212,\n",
      "          28.6645,   27.5444,  621.6561,   61.6720,   35.5290,   17.0228,\n",
      "          23.3391,   52.7530,   10.9361,   15.0272,   89.4049,   16.3936,\n",
      "          34.5968,   17.5991,   15.0564,   22.8330,    9.6621,   11.7578,\n",
      "          51.9371,    8.1801,   13.5210,   65.6393,   75.8588,   14.1897,\n",
      "          14.6049,   57.9851,    9.9755,   25.7223,   14.1222,   23.9913,\n",
      "          20.0555,   46.2396,   74.1223,   21.5078, 1757.6835,   33.9448,\n",
      "          14.2920,   13.7698,   13.0765,   13.2382,   23.9447,   42.5530,\n",
      "          98.2220,  553.6326,   26.9403,   22.6461,  370.3459,   24.5988,\n",
      "          27.1790, 1450.3069,   10.9198,   18.5162,   15.8954,   32.6178,\n",
      "         594.4548,   25.3089,   10.6144,   39.8129], grad_fn=<MaxBackward0>)\n",
      "tensor([7, 3, 7, 4, 8, 0, 3, 3, 4, 5, 3, 2, 3, 8, 2, 6, 5, 0, 2, 0, 0, 2, 1, 7,\n",
      "        9, 7, 0, 5, 3, 8, 6, 5, 2, 3, 6, 1, 2, 3, 5, 8, 4, 5, 2, 7, 0, 8, 6, 5,\n",
      "        5, 4, 9, 3, 4, 9, 9, 4, 7, 0, 0, 9, 4, 6, 2, 8])\n",
      "tensor([  62.9651,   20.1969,   49.9214,   16.8415, 1741.9678,   11.8468,\n",
      "          65.5283,   28.9730, 1629.7574,   15.9603,   90.4324,   16.3272,\n",
      "         104.2095,   72.5035,   27.1809,   33.5715,   46.9610,   24.7953,\n",
      "          20.2901,   51.0444,   14.1381,   34.7104,   95.4811,   26.6278,\n",
      "          41.2415,   21.4982,   11.9624,  248.0261,   21.5458,   25.2401,\n",
      "          40.0266,   32.9833,   58.9840,   52.0294,   24.0672,   20.1796,\n",
      "          59.6328,   29.8972,   20.8980, 1365.1484,   21.0668,   13.6450,\n",
      "          12.9171,   42.7166,   10.8650,   21.3517,  992.3934,   32.2594,\n",
      "          18.9227,   62.5532,   74.1598,   12.8163,   18.4583, 1231.7070,\n",
      "          16.9659,    9.4261,   14.3754,   60.6016,   25.8894,   12.3975,\n",
      "         814.7572,   29.5785,   26.6612,   12.7734], grad_fn=<MaxBackward0>)\n",
      "tensor([5, 0, 9, 6, 4, 2, 5, 5, 4, 2, 5, 0, 8, 5, 3, 8, 8, 6, 6, 5, 1, 6, 5, 3,\n",
      "        3, 6, 6, 4, 7, 8, 3, 9, 8, 3, 8, 1, 9, 2, 6, 4, 7, 0, 2, 1, 2, 6, 4, 3,\n",
      "        1, 5, 5, 0, 0, 4, 1, 1, 2, 5, 6, 7, 4, 8, 9, 7])\n"
     ]
    },
    {
     "name": "stdout",
     "output_type": "stream",
     "text": [
      "tensor([  11.9922,   48.3042,   19.5180,    8.4444,    6.7829,   81.1548,\n",
      "          29.8869,   23.9369,   11.0014,    7.2902,   15.0249,   21.8406,\n",
      "          15.3535,   14.6215,   12.4745,   34.8186,   15.3635,   11.6659,\n",
      "          30.6616,   21.6852,   24.5400,   19.6943,   17.1014,   18.3841,\n",
      "          11.5167,   18.2431,   15.8722,   13.0538,   12.7673,   18.9416,\n",
      "         560.2756,   37.1770,   21.5310,   21.6280,   11.7762,   15.9117,\n",
      "          12.1981,   18.7186,   10.9175,   87.8319,   40.7209,   16.6817,\n",
      "          10.2316,    8.1100,   38.4494,   36.8350,    4.9475,   19.0396,\n",
      "          29.2785,   17.3569,   40.3580,   25.0072,   46.0051, 1286.6798,\n",
      "          62.7743,   20.3737,   17.4752,   96.3271,    9.1705,   55.9869,\n",
      "          15.1394,   79.3474,   64.2732,   10.6474], grad_fn=<MaxBackward0>)\n",
      "tensor([8, 9, 6, 6, 2, 8, 9, 1, 8, 2, 2, 8, 7, 0, 0, 3, 9, 7, 3, 6, 6, 1, 7, 0,\n",
      "        1, 0, 2, 9, 2, 0, 4, 8, 6, 3, 7, 6, 0, 2, 7, 5, 1, 8, 0, 0, 5, 3, 2, 2,\n",
      "        9, 3, 5, 9, 5, 4, 8, 0, 3, 8, 3, 5, 0, 8, 5, 7])\n",
      "tensor([   8.1869,   12.2497,  107.0046,   12.7864,    7.3737,   19.1555,\n",
      "          55.5751,   13.5417,   65.7996,   46.3840,   33.3531,   17.3720,\n",
      "          26.2258,   14.1623, 1746.2076,   10.7784,   17.7686,   13.8485,\n",
      "          44.8300,   11.0015,  921.7565,   17.0110,   34.8914,   29.5428,\n",
      "          30.4256, 1727.4377,   22.6325,   18.5225,   16.5731,   13.3696,\n",
      "          12.3327,   37.0187,   15.1027,   15.1263,   15.1855,    7.8740,\n",
      "          11.1908,   20.0473,   17.1227,   75.9477, 1472.6893,    9.5988,\n",
      "         349.1241,   17.2257,   17.4422,   16.2329,   29.4846, 1073.9130,\n",
      "          26.8843,    6.4847,   96.4468,   26.5473,  759.0344,   13.1088,\n",
      "          73.9795,   19.1937,   40.2538,   13.4562, 1034.8291,   75.4130,\n",
      "          86.7438,    9.0092,   12.4449,   22.2336], grad_fn=<MaxBackward0>)\n",
      "tensor([1, 7, 8, 7, 2, 1, 8, 1, 5, 3, 9, 0, 6, 0, 4, 2, 2, 2, 9, 0, 4, 7, 2, 3,\n",
      "        9, 4, 6, 8, 7, 0, 6, 9, 7, 2, 6, 6, 7, 2, 6, 5, 4, 8, 4, 1, 0, 7, 3, 4,\n",
      "        3, 9, 8, 6, 4, 8, 8, 7, 9, 0, 4, 5, 8, 6, 0, 1])\n",
      "tensor([  14.1620,   33.9860,   12.2030,   17.1537, 1179.7690,   22.9301,\n",
      "          13.4984,   22.2432,   25.2450,   24.7884,   17.7854,   14.2310,\n",
      "          17.2420,   28.6511,   12.2088,   10.7502,   14.2670,   50.3992,\n",
      "          61.2690,   18.0989,   10.5046,   48.8569,   15.2260,   20.1785,\n",
      "          31.6922,  262.3024,   16.4528,   68.2301,   14.1649,   42.1790,\n",
      "          17.1500,   32.8072,   14.8620,   16.4021,   18.2724,   18.7470,\n",
      "          12.8539, 1643.0010,   20.1721,   20.7519,   20.0696,   14.9671,\n",
      "          17.9261,   23.1102,   71.2674,   14.1712,   35.1015,   27.6746,\n",
      "          22.3777,    9.9780,   16.5499,   17.1609,   20.4174,   16.2157,\n",
      "          85.4472,   12.6806,  605.0703,   47.1744,   13.1869,   53.7485,\n",
      "          20.7832,   29.9122,   50.0247,   44.3664], grad_fn=<MaxBackward0>)\n",
      "tensor([0, 1, 8, 6, 4, 2, 6, 2, 6, 3, 0, 2, 7, 2, 0, 1, 8, 5, 5, 0, 3, 5, 2, 8,\n",
      "        6, 4, 1, 9, 1, 5, 0, 3, 2, 2, 6, 2, 6, 4, 6, 7, 8, 7, 6, 0, 5, 7, 3, 1,\n",
      "        1, 1, 1, 9, 1, 1, 9, 1, 4, 3, 2, 5, 6, 1, 5, 8])\n",
      "tensor([1252.7106,   16.9225,   16.6158,   13.5512,   17.8580,   10.6511,\n",
      "          18.0872,   22.1129,   20.3279,   18.1500,    9.1338, 1203.8352,\n",
      "          13.7654,   13.7515,   13.0964,   36.3732,   17.4970,   14.2722,\n",
      "          20.7022,   15.8272,   12.0858,   27.0380,   58.5378,   18.4949,\n",
      "          31.0915,    4.4898,   58.3731,   13.3192,   44.9683,   34.8549,\n",
      "           8.4745,    8.5535,   19.8831,   20.2374,    8.7339,  642.5352,\n",
      "          20.3315,   18.5976,   95.3801,   22.1565,  715.4472,   17.9995,\n",
      "          13.6048,   41.9815,   49.1890,   24.0562,   16.1281,    8.5365,\n",
      "          42.7681,   12.8473,   11.4465,   18.5423,   20.4266,    8.4079,\n",
      "          22.3496,   11.8366,   26.2459,   30.5084,   11.9939,   23.1301,\n",
      "          12.4745,   16.4823,  367.3289,   40.9836], grad_fn=<MaxBackward0>)\n",
      "tensor([4, 6, 0, 8, 3, 7, 8, 0, 6, 0, 6, 4, 8, 1, 0, 3, 8, 7, 6, 2, 1, 6, 5, 6,\n",
      "        3, 1, 5, 6, 3, 5, 6, 7, 2, 1, 2, 4, 9, 6, 9, 8, 4, 0, 3, 9, 5, 2, 7, 6,\n",
      "        5, 1, 6, 0, 2, 3, 7, 8, 8, 3, 2, 3, 0, 7, 4, 8])\n",
      "tensor([  48.6764,    9.5270,   42.1255,   16.7841,   19.8741,   21.9705,\n",
      "          16.3272,   12.8303,   24.0383,   46.8329,  635.0204,   56.7913,\n",
      "          13.9085,   17.9567,   11.3867,   14.5308,   14.7721,    8.9550,\n",
      "          80.7316,   12.8698,   24.7435,   12.6030,   44.1077,   12.8235,\n",
      "         528.7867,   33.0289,   66.6822,   20.3183,   20.2590,   68.8767,\n",
      "          15.9186,   21.7064,   19.1794,   15.0328,    9.3868,  518.3528,\n",
      "          19.8185,   16.3105,   29.7502,   24.8737,   25.0858,   14.4481,\n",
      "          13.8535,   12.8617,   47.8626,   10.0230,   29.5257,   27.9958,\n",
      "          23.8328,   17.9904,   15.9850,  308.5066,   40.5146,   85.4027,\n",
      "          30.3644,   21.0322,   12.3167, 1706.0920,    6.5289,   14.7392,\n",
      "          25.6036,  792.2284,   15.3755,   16.3620], grad_fn=<MaxBackward0>)\n",
      "tensor([3, 1, 1, 6, 6, 9, 0, 6, 9, 3, 4, 5, 7, 0, 2, 6, 2, 0, 8, 7, 3, 3, 1, 6,\n",
      "        4, 3, 5, 6, 0, 5, 3, 2, 7, 0, 1, 4, 6, 0, 9, 6, 3, 2, 3, 7, 9, 2, 1, 8,\n",
      "        3, 8, 9, 4, 5, 8, 9, 0, 1, 4, 1, 0, 9, 4, 1, 0])\n",
      "tensor([  81.6608,   42.8189,   78.6095,   11.7508,   17.2014,   38.2539,\n",
      "          20.3973,   48.0771,   73.8931,   58.7530,    4.5029,   20.1870,\n",
      "          69.1705,   31.0844,   19.7835,   11.9959,   16.6932,   26.8958,\n",
      "          13.9319,   25.7568,   20.6921,    8.9540,   11.6510,   20.5298,\n",
      "          68.1401,   12.3669,   65.6067,   16.2020,   16.9225,   66.0454,\n",
      "          16.2020,   63.1923,   32.0841,   15.9247,   20.8316,   17.0187,\n",
      "          22.3000,   66.4901,   56.1587,   25.4593,   14.9989,  338.8821,\n",
      "          20.1851,   23.1217,   33.2528,   29.3059,   45.3421,   13.9889,\n",
      "          16.0932,   13.0269,   12.6958, 1297.1473,   18.1751,   19.7839,\n",
      "          10.2794,   23.2177,   17.7344,   25.3300,   72.5170,   27.2222,\n",
      "          42.5084, 1122.0571,   11.5232,   45.8886], grad_fn=<MaxBackward0>)\n",
      "tensor([8, 3, 8, 0, 1, 8, 6, 5, 5, 5, 7, 8, 5, 6, 8, 7, 7, 9, 0, 6, 8, 1, 7, 1,\n",
      "        9, 0, 5, 0, 1, 5, 0, 9, 3, 9, 1, 0, 6, 8, 9, 2, 2, 4, 8, 3, 8, 8, 3, 7,\n",
      "        6, 6, 1, 4, 0, 2, 1, 1, 0, 3, 9, 1, 9, 4, 7, 5])\n",
      "tensor([  24.6135,   59.2618,   16.9060, 1421.1089,  912.8555,   12.0090,\n",
      "          43.8014,   24.4351,   15.5521,   21.7321,   43.0028,   16.3067,\n",
      "          16.0329, 1658.8484,   27.8098,   13.0777,  131.6551,   12.8789,\n",
      "          19.4731,   24.1071,   11.7809,   22.7493,   17.9565,   18.4060,\n",
      "          70.3787,   49.2848,   72.2905,   14.9558,   77.3402,   16.9680,\n",
      "          52.4061,   40.4010,   48.4618,   11.5678,   39.9144,   51.3857,\n",
      "          24.5873,   76.4882,    8.4992,   26.9680,   58.5876,   17.0773,\n",
      "        1324.8843,   11.8114,   16.6369,   16.3172,   18.0666,   14.1826,\n",
      "          56.6713,   15.9659,   48.2068,   19.2795,   17.2773,   15.3331,\n",
      "           9.0589,  779.3146,   44.9678, 1456.3168,   17.6418,   79.0694,\n",
      "          16.3284,   19.2289,   73.3483,   15.7611], grad_fn=<MaxBackward0>)\n",
      "tensor([1, 9, 6, 4, 4, 7, 3, 9, 7, 2, 5, 9, 1, 4, 8, 8, 8, 6, 2, 2, 1, 1, 0, 6,\n",
      "        5, 3, 9, 7, 5, 6, 8, 2, 9, 0, 8, 5, 5, 5, 7, 3, 8, 1, 4, 7, 8, 3, 1, 3,\n",
      "        8, 0, 3, 0, 6, 0, 7, 4, 8, 4, 6, 8, 7, 1, 5, 6])\n",
      "tensor([  26.5424,   15.1594,   65.4904,   16.8057,   19.9510,   10.2255,\n",
      "          22.0399,   23.6091,   43.8934,   15.1168,   17.6214,   44.5106,\n",
      "          75.3257,   24.7705,   53.3775,   16.9246,   15.9711,   37.3688,\n",
      "           5.7294,   76.4935,   15.3217,    9.6554,   31.4100,    8.0258,\n",
      "          26.6124,   79.7783,   28.3789,   15.3967,   26.8879,   25.3667,\n",
      "         795.5977,   81.8202, 2186.7290,   14.1953,   14.8417,   25.9351,\n",
      "          13.9896,   24.1512,    9.0033,   16.4043,   18.8538,   28.6139,\n",
      "          32.1366,   15.4725,   34.7161,   16.3272,   13.4182,   15.5615,\n",
      "          10.6101,   57.5778,   12.9691,   31.3875,   10.5902,   35.7791,\n",
      "          30.4339,   20.2838,   60.9956, 1169.1979,   34.8776,  769.3751,\n",
      "          12.9939,   11.6784,   58.7204,   19.4331], grad_fn=<MaxBackward0>)\n",
      "tensor([8, 3, 5, 9, 9, 1, 7, 0, 5, 0, 0, 5, 5, 1, 3, 7, 2, 9, 7, 5, 1, 9, 3, 1,\n",
      "        8, 8, 9, 8, 8, 9, 4, 9, 4, 6, 1, 8, 6, 1, 2, 2, 8, 3, 1, 7, 9, 0, 1, 7,\n",
      "        0, 5, 7, 9, 1, 9, 1, 0, 5, 4, 3, 4, 7, 2, 5, 7])\n"
     ]
    },
    {
     "name": "stdout",
     "output_type": "stream",
     "text": [
      "tensor([  15.3374, 1100.7058,   19.1188,   39.0184,   59.2056,   46.6967,\n",
      "          63.8186,   20.5077,   21.7142, 1177.7797,   15.7062,   10.4637,\n",
      "          13.5210,   13.3017,   78.1443,   15.7868,   12.4069,    8.9417,\n",
      "          25.7158,   20.1247,   15.8794,   68.0273,   72.6139,   22.4446,\n",
      "          36.7648,  101.2155,   19.5390,    5.7086,   63.1730,   62.9203,\n",
      "          45.2712,  683.8889,  477.4656,    6.7951,   16.9423,   90.4436,\n",
      "          21.3744,   12.7641,   14.2354,    7.2954,   73.0549,   20.2140,\n",
      "          18.3829,   15.5804,   23.7205,   18.5530,   16.2480,   18.8192,\n",
      "          14.8239,   33.1387,   26.9552,   18.0920,   12.4052,   47.7445,\n",
      "          65.8507,   45.7808,   30.2385,   64.2471,  777.7292,   12.7920,\n",
      "          65.1985,   13.7328,   43.7385,   61.2414], grad_fn=<MaxBackward0>)\n",
      "tensor([0, 4, 9, 3, 8, 3, 5, 1, 2, 4, 0, 3, 0, 3, 5, 0, 3, 6, 3, 2, 2, 5, 5, 3,\n",
      "        3, 8, 0, 3, 5, 5, 8, 4, 4, 1, 8, 8, 2, 1, 6, 7, 5, 2, 1, 0, 0, 2, 7, 2,\n",
      "        0, 3, 3, 7, 7, 8, 5, 9, 1, 8, 4, 8, 5, 6, 3, 9])\n",
      "tensor([  45.1120,   19.3866,   16.0271,   34.3053,   29.1552,   13.1323,\n",
      "          26.5435,   30.0399,   17.3099,   16.0036,   19.4963,   14.6389,\n",
      "          16.8314,   17.4848,   46.4973,   13.2784,   29.3495,   14.0037,\n",
      "          19.9840,    7.6189,   78.8935,   12.8280,   24.9273,   58.9963,\n",
      "          42.3461,   22.2433,   53.0477,   12.4525,    9.9840,   12.4016,\n",
      "           7.9677,   16.1378,   12.9552,   99.3483,   17.0570,   17.3324,\n",
      "          11.4089, 1382.6702,    8.3234,   70.3568,   19.9483, 1519.2329,\n",
      "          18.4676,  927.1915,  142.1043,   86.9351,   14.8202,   16.6826,\n",
      "          12.6556,   17.6525,   26.4647,  391.0870,   14.6719,   19.9916,\n",
      "          17.4685,   88.6409,   20.3043,   18.6588,   11.6471,   20.4077,\n",
      "          13.7127,    8.5809,   48.2552,   16.7267], grad_fn=<MaxBackward0>)\n",
      "tensor([5, 9, 0, 3, 9, 0, 2, 3, 1, 7, 8, 7, 8, 7, 9, 7, 9, 0, 2, 0, 8, 6, 3, 5,\n",
      "        5, 6, 5, 7, 1, 1, 2, 3, 1, 8, 3, 8, 0, 4, 7, 9, 6, 4, 2, 4, 8, 5, 3, 0,\n",
      "        1, 2, 1, 4, 0, 6, 3, 8, 9, 7, 2, 2, 8, 1, 2, 7])\n",
      "tensor([   5.8603,   13.2434,   14.2974,   60.5012, 1789.3972,   21.6347,\n",
      "          18.7639, 1625.2506,  773.7075,   21.0238,   12.9075,   17.8876,\n",
      "          15.2876,   43.9193,   58.8753,   19.8045,   21.4144,   19.8173,\n",
      "          16.8367,   12.4778,   27.5093,   58.9938,   28.9138,   30.0013,\n",
      "         917.7823,   36.0699,   35.4288,   19.0133,   30.9901,   18.0897,\n",
      "          14.8012,   11.6776,  551.1238,   19.1611,   14.0943,   16.1145,\n",
      "          25.0760,   10.3046,   15.0874,   62.9381,    8.9499,   29.0931,\n",
      "         536.6287,   15.6967,   26.7176,   42.9538,   14.8557,   56.6732,\n",
      "          41.6155,   62.5372,   13.9282,   36.6877,   17.9322,   14.6293,\n",
      "           8.6870,   59.5443,   17.6406,   22.4844,   12.1620,   18.6043,\n",
      "          14.8657,   13.7866,   18.7660,   16.5585], grad_fn=<MaxBackward0>)\n",
      "tensor([1, 1, 0, 9, 4, 6, 1, 4, 4, 6, 2, 3, 8, 9, 8, 0, 1, 7, 1, 3, 2, 9, 3, 1,\n",
      "        4, 3, 3, 0, 2, 2, 3, 1, 4, 0, 0, 1, 8, 1, 8, 8, 9, 3, 4, 5, 3, 9, 2, 9,\n",
      "        8, 9, 2, 9, 2, 1, 8, 5, 0, 9, 8, 2, 3, 3, 3, 0])\n",
      "tensor([ 13.8558,  14.4577,  11.2499,  13.7182,   4.3554,  20.5693,  16.0232,\n",
      "         11.6315,  21.8832,  20.6775,  16.6544,  24.9507,  24.7370,  25.9470,\n",
      "        105.0990,  16.6102,  17.0364,  12.4679,  86.0567,  19.9977,  18.0891,\n",
      "         27.0955, 288.3172,  16.5091,  17.1125,  11.5122,  45.2867,  15.9926,\n",
      "         10.0762,  20.9579,  31.2536,  31.4083,  25.7487,  14.5882,  21.7368,\n",
      "        507.2089,  10.9362,  15.1784], grad_fn=<MaxBackward0>)\n",
      "tensor([0, 6, 1, 2, 1, 6, 7, 8, 1, 6, 2, 6, 3, 9, 8, 7, 1, 7, 5, 3, 2, 3, 4, 2,\n",
      "        7, 9, 5, 3, 0, 3, 1, 3, 3, 7, 8, 4, 7, 0])\n"
     ]
    }
   ],
   "source": [
    "train_acc = accuracy(train_loader)"
   ]
  },
  {
   "cell_type": "code",
   "execution_count": 31,
   "id": "9ba230ff",
   "metadata": {},
   "outputs": [
    {
     "name": "stdout",
     "output_type": "stream",
     "text": [
      "tensor([  13.4483,   23.4779,   14.4699,    6.7369,   14.2370,   15.3643,\n",
      "          12.5599,   11.3299,   11.7379,  100.0580,   57.7281,   22.2850,\n",
      "          11.9820,   14.0696,   12.7515,   11.7598,   41.4521,   21.9763,\n",
      "          11.7958,   56.8290,   16.0104, 1397.3066,  195.3857,   38.5482,\n",
      "          15.3372,   69.5401,   19.2509,  621.3693,   10.3532,   12.6157,\n",
      "          17.2623,   42.5790,   18.4972,   22.6613,   18.0245,   24.1159,\n",
      "          28.8490,    9.6434,   12.3462,   15.1840,   10.4685,   19.6574,\n",
      "          13.7809,   64.2503,    8.7365,   20.8987,    6.3415, 1246.1403,\n",
      "          27.4872, 2852.3286,   39.7665,   10.0013,   12.2090,   40.3091,\n",
      "          19.9522,   72.0378,  392.5220,   80.7591,   28.8495,   57.8177,\n",
      "          25.6658,  843.8963,   21.4475,   16.6952], grad_fn=<MaxBackward0>)\n",
      "tensor([7, 2, 1, 0, 0, 0, 8, 3, 6, 8, 5, 1, 3, 8, 1, 7, 8, 6, 7, 5, 3, 4, 4, 9,\n",
      "        6, 5, 3, 4, 6, 0, 7, 3, 3, 2, 0, 2, 8, 8, 6, 7, 6, 1, 0, 5, 0, 2, 3, 4,\n",
      "        3, 4, 9, 7, 8, 8, 8, 8, 4, 8, 1, 5, 3, 4, 3, 0])\n",
      "tensor([  76.3110,   33.4194,   13.4410,   36.9337,   26.5542,   46.1483,\n",
      "          22.5204,   23.8700,   22.4959,   80.7272,   17.2621,   14.8268,\n",
      "          12.8773,   11.1440,   40.1566, 1423.8694,   51.5730,   68.0945,\n",
      "          59.3496,    9.8852, 1682.9136,   12.1209,   12.6434,   18.0609,\n",
      "        1117.8771,   16.6770,   16.9251,   14.1529,   12.8469,   12.8528,\n",
      "          21.1971,   20.2106,   16.6068,   72.8749,   21.0754,   13.5862,\n",
      "          16.4845,   21.3197,   46.6172,   16.1376,   69.6272,   26.8649,\n",
      "          46.9006,  139.2973,   84.0567,   23.1461, 2272.7114,   22.6710,\n",
      "          22.8352,   21.5181,   81.0422,    7.0865,   11.9829,   16.2715,\n",
      "          32.4463,   21.3007,   18.6203,   79.5476,   77.6373,   16.3210,\n",
      "          11.9662,   71.8170,   19.6561,   60.6217], grad_fn=<MaxBackward0>)\n",
      "tensor([9, 1, 3, 8, 9, 2, 2, 0, 9, 5, 7, 8, 1, 7, 3, 4, 8, 5, 8, 0, 4, 3, 0, 9,\n",
      "        4, 0, 1, 6, 1, 1, 0, 6, 3, 8, 6, 0, 6, 6, 9, 2, 5, 8, 5, 4, 4, 5, 4, 3,\n",
      "        6, 2, 5, 0, 1, 6, 8, 3, 8, 5, 5, 1, 1, 5, 6, 5])\n",
      "tensor([  16.9331,   43.0284,   14.9858,   13.4031,    8.8964,  943.5344,\n",
      "          15.9290,   11.2338,    6.8949,   15.4016,   50.9233, 1234.0493,\n",
      "           8.9783, 1285.3270,   14.9435,   12.0932,   12.8822,   11.4465,\n",
      "          16.3471,   13.6236,    8.0198,   23.8541,  534.7734,   24.6800,\n",
      "          10.2240,   11.4870,   15.8954,   30.2193,   58.1259,    5.5989,\n",
      "          51.8113,   14.3010,   26.6033,   13.3478,   11.1346,   15.2881,\n",
      "          13.2188,   14.6364,   10.2916,   72.2660,   32.2442,   31.8487,\n",
      "          30.9560,   10.3573,   15.3794,   51.9827,   22.1355,   57.2749,\n",
      "          12.1753,   13.5927,  103.3702,    9.6029,   46.4927,   62.2817,\n",
      "        1346.6401,   46.3256,   22.8207,   10.7848,   10.7251,    8.0447,\n",
      "         102.8974,   29.5202,   21.6469,    8.5050], grad_fn=<MaxBackward0>)\n",
      "tensor([7, 5, 3, 1, 1, 4, 6, 7, 7, 0, 5, 4, 1, 4, 1, 0, 2, 7, 3, 0, 7, 6, 4, 8,\n",
      "        2, 2, 0, 6, 9, 1, 9, 2, 3, 9, 7, 7, 2, 2, 8, 5, 3, 9, 1, 3, 0, 1, 0, 8,\n",
      "        1, 7, 5, 6, 3, 8, 4, 8, 3, 7, 8, 2, 8, 5, 6, 8])\n",
      "tensor([ 123.7837,   15.8491,   20.1146,   51.9175,   25.4491,    7.6817,\n",
      "        1435.6453, 1258.6024,   18.6172,   25.8818,   20.7527,   27.7207,\n",
      "          66.6833,   11.7909,   14.4423,   15.6526,   14.2105,   25.8168,\n",
      "          11.8003,   13.6825,   61.8771,   20.7002,   57.3553,   12.1520,\n",
      "          39.9389,   70.9121,   15.3920,   10.1627,   15.6298,   22.2212,\n",
      "         202.7471,  860.8307,   18.6710,   13.0766,   14.2039,  973.1648,\n",
      "          21.4703,   15.3943,   18.7784,   11.3100,   16.2020,   23.5828,\n",
      "          13.5132,   17.1533,   14.1421,   33.8517, 1818.8433,   15.6628,\n",
      "          19.9488,   12.0287,   11.5837, 1434.7189,   20.4533,  689.6465,\n",
      "          14.1143,   14.4109, 1491.3414,   65.3539,   13.1956,   17.4033,\n",
      "          23.6625,   22.7084,   17.7801,   11.9400], grad_fn=<MaxBackward0>)\n",
      "tensor([8, 7, 1, 5, 1, 1, 4, 4, 6, 6, 1, 3, 5, 2, 8, 7, 3, 9, 0, 7, 5, 6, 9, 2,\n",
      "        3, 8, 0, 7, 6, 6, 4, 4, 7, 6, 0, 4, 6, 0, 6, 0, 0, 8, 2, 2, 6, 5, 4, 7,\n",
      "        7, 0, 7, 4, 9, 4, 1, 3, 4, 5, 0, 1, 9, 8, 1, 1])\n",
      "tensor([  60.6733,   12.5155,   11.8194,   15.1158,   17.5237,    5.2198,\n",
      "          20.3973,   13.2402,   31.9684,   27.0268,   39.2663,   11.9726,\n",
      "          11.8822,  108.9977,  779.9561,   46.0960,    5.4639,   34.5184,\n",
      "          21.5245,   25.4215,   13.9802,   15.0048,   63.0856,   27.1835,\n",
      "          86.8468,    6.4677,   22.4585,   10.4932,   12.5869,   33.6236,\n",
      "          13.1636,  841.7649,   16.3149,   79.7391,   36.2779,   18.4114,\n",
      "         780.5365,   62.6949,   24.9174,   20.3021, 1179.9988,   11.7800,\n",
      "          18.5144,   30.0256,   18.6693,    7.5317,   20.0505,   81.3037,\n",
      "          13.1979,   27.2054,    7.3076,    5.6951,   23.5367,    5.4317,\n",
      "          32.0172,   16.8031,   11.9121,   12.5321,    7.0122,   29.2747,\n",
      "          17.1421,   12.2308,   13.4722,   18.1168], grad_fn=<MaxBackward0>)\n",
      "tensor([5, 2, 1, 2, 7, 2, 2, 0, 9, 3, 8, 7, 8, 8, 4, 8, 7, 9, 3, 3, 7, 1, 5, 6,\n",
      "        5, 6, 9, 7, 3, 1, 0, 4, 0, 5, 3, 2, 4, 5, 9, 2, 4, 7, 0, 3, 3, 8, 3, 9,\n",
      "        2, 9, 1, 2, 6, 1, 3, 6, 8, 0, 2, 3, 9, 0, 1, 6])\n",
      "tensor([  12.9455,   13.7675,   14.7998, 1044.1490,   73.4181,   18.5534,\n",
      "          24.5561,   64.2976,   93.5249,   24.3342,   10.9910,   19.4788,\n",
      "          27.6230,   31.6475,    7.1627,   15.8493,   12.8876,    9.5761,\n",
      "          16.8437,  200.1417,   15.2162,   13.7845,   17.9028,   16.6629,\n",
      "          11.5641,   33.4658,   34.6857,   14.1978,   15.6272,   14.1148,\n",
      "         629.1161,   10.3647,   23.7725,    5.6044,   29.0751,   25.5401,\n",
      "           6.8510,   18.5157,   13.8093,   63.7729,   55.6682,    9.4607,\n",
      "        1179.6285,   14.1573,    8.8184,   17.3275,  343.1923,   16.2449,\n",
      "          30.0385,   70.7821,   11.9844,   76.7797,   35.8882,   31.3402,\n",
      "          13.4273,   13.2410,   13.8979,   47.5848,   18.8118, 1037.5133,\n",
      "          58.7347,   11.2463,  285.5650,   23.9116], grad_fn=<MaxBackward0>)\n",
      "tensor([0, 2, 3, 4, 5, 6, 2, 5, 5, 8, 3, 6, 3, 8, 8, 1, 1, 3, 6, 4, 6, 7, 9, 2,\n",
      "        1, 3, 9, 7, 0, 1, 4, 2, 2, 6, 3, 3, 1, 7, 6, 9, 5, 3, 4, 6, 1, 6, 4, 7,\n",
      "        1, 5, 0, 5, 9, 5, 7, 3, 6, 9, 6, 4, 9, 1, 4, 8])\n",
      "tensor([  16.0254, 1245.4241,   22.5302,   18.6719,   10.1540,   18.3883,\n",
      "          16.9565,   13.0342,   35.3411,  843.1187,   20.1549,   18.7611,\n",
      "          27.0015,   28.3417,   18.0821,   67.5586,  523.0602,   14.7853,\n",
      "         806.6560,   32.9336,   11.0412,   11.7530,   10.4921,   19.6131,\n",
      "          29.6760,   10.4759,   21.7523,   40.0767,   22.6628,   15.6717,\n",
      "          33.7918,   80.9286,   28.7051,   12.4745, 1305.4742,   13.1916,\n",
      "          29.4364,   22.8006,   15.1746,    8.9139,   41.2365,   10.8279,\n",
      "          61.7639,  425.6149,   45.7980,   21.5063,   14.0998,   26.5602,\n",
      "         568.9987,   18.3753,   45.1004,   10.9120,    8.3342,   14.4770,\n",
      "          35.7807,   27.8231,   14.2539,    9.1994,   21.5415,   70.8373,\n",
      "          90.3896,    9.4845], grad_fn=<MaxBackward0>)\n",
      "tensor([6, 4, 6, 6, 1, 6, 3, 0, 9, 4, 9, 8, 1, 6, 3, 5, 4, 3, 4, 3, 0, 8, 8, 8,\n",
      "        8, 8, 6, 8, 8, 6, 9, 9, 3, 0, 4, 8, 3, 8, 6, 0, 9, 1, 9, 4, 9, 9, 0, 3,\n",
      "        4, 1, 2, 2, 6, 6, 2, 9, 7, 1, 1, 5, 5, 9])\n"
     ]
    }
   ],
   "source": [
    "test_acc = accuracy(test_loader)\n"
   ]
  },
  {
   "cell_type": "code",
   "execution_count": 32,
   "id": "82919237",
   "metadata": {},
   "outputs": [
    {
     "name": "stdout",
     "output_type": "stream",
     "text": [
      "tensor([  23.9106,   24.1873,    5.6928,    7.9822,   25.4838,    9.7482,\n",
      "         137.9637,   17.6278,   13.3506,   13.2247,   98.0021,  148.5505,\n",
      "          17.2644,   23.1383,    9.0038,   25.7985,   46.1224,   15.3117,\n",
      "          15.2604,   10.3760,  982.8073,   21.8602,   10.6549,   42.4849,\n",
      "          81.8967,    5.4818,   15.4841,   19.5302,   13.3921,   17.0750,\n",
      "          28.7981, 1108.8318,   16.9702,   16.4132,   61.2989,   25.2977,\n",
      "          30.0187,   12.1304, 1923.5297,   12.0615,   42.9436,   26.1726,\n",
      "          20.2913,  352.6295,   98.0106,   37.4741,   50.1165, 1316.7531,\n",
      "           8.2526,   17.4538,   14.1710,   12.7647,   15.9948,  435.6850,\n",
      "          81.3778,   14.3749,   24.5086,   87.4575,    7.4025,   18.4144,\n",
      "          24.0528,   18.4618,   29.2098,   14.9108], grad_fn=<MaxBackward0>)\n",
      "tensor([3, 6, 8, 6, 6, 0, 4, 6, 9, 8, 8, 8, 6, 2, 1, 6, 3, 2, 1, 1, 4, 0, 0, 8,\n",
      "        5, 8, 5, 2, 2, 6, 3, 4, 7, 1, 5, 1, 3, 6, 4, 1, 5, 8, 1, 4, 5, 9, 9, 4,\n",
      "        8, 6, 0, 1, 7, 4, 5, 6, 6, 5, 1, 6, 9, 1, 8, 1])\n",
      "tensor([  59.8914, 1560.6737,   10.8281,   48.5562,   15.0131,   19.0886,\n",
      "          34.9377,   17.1895,   11.6246,   14.7528,   33.9319,    5.3063,\n",
      "          43.8104,   21.3046,   29.9279,   10.1421,    9.0697,   18.7701,\n",
      "          15.9666,  143.0228,   18.2011,   52.5664,   15.0895,   24.0874,\n",
      "          14.0126,   12.9697,   11.2832,   18.1617,   11.9452,   18.7474,\n",
      "          40.2324,   24.7677,   25.7336,   10.9460,   23.5949,   30.1975,\n",
      "          61.9471,    7.6913,   29.1118,   21.7823,   24.1932,   12.6059,\n",
      "          16.6265,   92.3959,   19.5623, 1759.6813,   20.0303,   11.1071,\n",
      "          11.4783,   30.7566,   34.1188,   53.0450,   17.9670, 1367.3492,\n",
      "          26.8654,   19.9818,   11.1317,   16.4263, 1108.5403,   11.7597,\n",
      "          33.3552,   20.0243,   25.5749,   10.5382], grad_fn=<MaxBackward0>)\n",
      "tensor([8, 4, 1, 9, 0, 6, 3, 0, 7, 2, 3, 1, 5, 2, 6, 1, 0, 9, 7, 8, 2, 5, 6, 6,\n",
      "        6, 2, 9, 6, 1, 2, 5, 8, 8, 7, 2, 3, 5, 0, 9, 0, 9, 8, 9, 8, 7, 4, 2, 1,\n",
      "        7, 5, 1, 9, 7, 4, 6, 6, 1, 0, 4, 1, 6, 2, 3, 6])\n",
      "tensor([  26.5931,    9.2443,   12.7327,   14.9984,   12.8483,   22.4389,\n",
      "          18.7041,   89.4267,    8.8499,   50.2316, 1378.7139,   20.9009,\n",
      "          56.0663,   13.7039,   24.5386,    7.3581,   12.9051,   16.2873,\n",
      "          11.2882,   20.0208,    8.9654,   42.6786,   35.0745,   12.2569,\n",
      "          15.1712,   55.9715,   14.2586,   13.0662,   17.6993,   52.8887,\n",
      "          12.7517,   35.6074,   16.2496,    7.2845,   20.6044,   59.8367,\n",
      "          14.0372, 1821.5155,   72.4747,   16.5364,   18.1899,   10.7627,\n",
      "          19.7696,   13.4631,   16.3315,   34.4780,   58.8750,   13.3672,\n",
      "          15.0215,   46.8869,    8.0863,   21.8170,   15.4931,   13.3842,\n",
      "          32.7539,   13.8033,   14.9711,    9.5066,   74.8418,   26.7644,\n",
      "          22.6076,   27.3559,   28.6417,   20.2891], grad_fn=<MaxBackward0>)\n",
      "tensor([0, 1, 7, 1, 3, 9, 8, 8, 1, 5, 4, 2, 9, 1, 6, 7, 8, 0, 2, 6, 1, 5, 9, 8,\n",
      "        2, 5, 0, 2, 0, 8, 1, 1, 7, 0, 2, 5, 1, 4, 5, 8, 6, 6, 6, 6, 1, 9, 5, 0,\n",
      "        7, 8, 3, 6, 2, 2, 3, 8, 0, 9, 8, 3, 1, 6, 1, 6])\n",
      "tensor([  16.5880,   27.7509,   47.6891,   71.8244,   14.4502,   20.6644,\n",
      "          24.9813,  730.2183,   66.5907,   16.4313,   27.5830,    7.4799,\n",
      "          14.8530, 1313.5801,   29.1871,   50.9357,   14.7462,  737.6890,\n",
      "          65.8546,   30.0659,   43.4768,   18.5353,   16.8148,   64.6088,\n",
      "          17.3226,   56.6427,   59.4710,   17.1367,   20.8992,   28.9950,\n",
      "          20.4624,   18.5862,   36.1109,   56.9352,   49.9072,   20.7680,\n",
      "          46.5931,   16.2644,   53.6509,   69.0622,   16.2454,  967.8076,\n",
      "          17.2723,   13.1624,   10.9303,   25.7154,   30.1580,   17.0274,\n",
      "          15.3738,   15.2230,   80.7198,   10.6141,   25.4084,   22.9789,\n",
      "          40.9650,   60.2986,    5.7975,   11.5984,  370.7555,   15.5787,\n",
      "          14.8522,   21.1277,   10.5673,   69.0787], grad_fn=<MaxBackward0>)\n",
      "tensor([8, 5, 9, 5, 7, 8, 9, 4, 8, 7, 9, 6, 8, 4, 6, 9, 1, 4, 5, 8, 5, 8, 1, 8,\n",
      "        0, 5, 5, 1, 0, 9, 1, 2, 9, 9, 9, 7, 9, 3, 9, 5, 7, 4, 1, 6, 2, 1, 2, 6,\n",
      "        2, 3, 8, 1, 2, 8, 3, 5, 1, 9, 4, 2, 3, 6, 1, 5])\n",
      "tensor([  14.7052,   30.1813,   28.2260,   53.1879,   11.8721, 1508.0498,\n",
      "          34.6967,   21.6229,   13.3915,   16.1420,  438.3063,   18.9865,\n",
      "          31.0331,   57.3655,   14.9603,   87.4817,   14.0860,   35.7505,\n",
      "          11.1291,    4.9795,    8.2971,   12.8228,   16.2257,  656.1686,\n",
      "          18.0329,   36.5908,    7.2408,   11.0762,   15.5299,   12.8308,\n",
      "          20.4709,   18.5449,   15.9972,   41.7382,   53.2199,   15.1063,\n",
      "          16.4277,  839.0366,   34.9075,   21.9749,   12.7791,   11.5313,\n",
      "          19.2745,    6.7344,  642.9113,   21.1817,   35.5476,    5.2170,\n",
      "          11.3842,   42.1328,   14.2354,   14.9099, 1145.3291,   12.1929,\n",
      "          52.9548,   26.6250,   16.5089,    7.6884,   16.5763,   13.5534,\n",
      "          71.0692,   61.2913,   15.6455,   56.9465], grad_fn=<MaxBackward0>)\n",
      "tensor([7, 1, 3, 5, 7, 4, 9, 8, 2, 7, 4, 1, 2, 5, 3, 9, 2, 5, 6, 1, 1, 7, 9, 4,\n",
      "        6, 3, 7, 0, 6, 7, 3, 9, 2, 3, 5, 6, 0, 4, 5, 9, 1, 3, 8, 3, 4, 2, 3, 7,\n",
      "        0, 9, 9, 9, 4, 7, 8, 0, 2, 1, 8, 2, 5, 5, 5, 8])\n",
      "tensor([  17.0180,  109.4677, 1591.1625,    9.2479,   13.5069,   11.8628,\n",
      "          21.5943,   13.7402,   11.8452,   18.1617,   19.1453,   31.5626,\n",
      "          92.5763,   13.7794,   15.4146,   40.6486,   11.7609,   19.7128,\n",
      "         525.3099,   11.1769,   19.6514,   40.2187,    8.2003,   22.4682,\n",
      "           9.7556,   17.6493, 1315.0582,   26.2569,   13.1702,   45.8527,\n",
      "          28.4260,  464.8712,   11.6405,   22.8326, 1825.7694,   16.9528,\n",
      "          39.2238,  431.5155, 1593.1528,   22.1193,   63.7580,    7.6947,\n",
      "          38.6725,   49.0572,   23.3338,    7.8822,  184.3367,   11.8025,\n",
      "         554.3304,   19.4846,   17.7354,   29.8728,  139.3796,  391.9193,\n",
      "          35.5360, 1337.1620,   51.8029,   49.9474,  606.6818,    9.4526,\n",
      "          35.3465,   63.3729,   22.9669,   16.7174], grad_fn=<MaxBackward0>)\n",
      "tensor([3, 5, 4, 6, 0, 7, 7, 3, 8, 7, 3, 3, 5, 6, 3, 9, 1, 0, 4, 0, 6, 9, 0, 2,\n",
      "        7, 2, 4, 3, 2, 5, 3, 4, 7, 6, 4, 0, 3, 4, 4, 3, 9, 1, 3, 3, 3, 1, 4, 7,\n",
      "        4, 1, 1, 8, 4, 4, 9, 4, 5, 5, 4, 1, 1, 5, 6, 8])\n",
      "tensor([  32.5978,   14.0256,   19.8029,   10.4690,   14.0676,   49.7897,\n",
      "         624.4321,   48.8377,   58.5992,   74.6645,   12.0462,   20.6755,\n",
      "          68.6810,   25.5613, 1341.2476,   12.4574,   17.8179,   20.3300,\n",
      "           2.5715,   28.9237,   16.3859, 1093.9119,   18.4998,   10.3274,\n",
      "          49.0863, 1432.9617,   10.7861,   10.4172,   18.2280,  598.3016,\n",
      "          17.5680,   13.0007,   12.4642,   13.9588,   11.4577,    8.9224,\n",
      "        1078.4786,   50.3967,   39.1237,   25.9682,   53.7852,   34.4506,\n",
      "          24.9067,   29.2718, 1209.1538,   12.8510,  708.6844,   81.5325,\n",
      "          25.4770,   24.9619,   18.9654,   35.2781,   30.0337,   13.6967,\n",
      "          18.2218,   64.1283,   14.6099,   15.3534,   62.5293,   11.0420,\n",
      "          17.7569, 1252.1116,   29.2708,   12.2721], grad_fn=<MaxBackward0>)\n",
      "tensor([9, 2, 6, 0, 3, 5, 4, 9, 5, 5, 1, 8, 8, 9, 4, 0, 7, 3, 1, 3, 1, 4, 2, 0,\n",
      "        8, 4, 7, 0, 0, 4, 0, 2, 2, 2, 1, 0, 4, 9, 9, 9, 5, 5, 1, 9, 4, 1, 4, 8,\n",
      "        2, 8, 2, 3, 2, 1, 9, 8, 8, 1, 9, 2, 1, 4, 1, 6])\n",
      "tensor([  17.7168,   14.9858,    7.9753,   95.4158,   21.2615,   47.6981,\n",
      "          19.4755,   41.1391,   58.9806,  738.5720,   11.0595,    3.1778,\n",
      "         490.3106,   11.6356,   20.2170,   41.2651,    9.5005,   25.2719,\n",
      "          26.9152,   12.2476,   13.6033,   14.3018,   10.2725,  853.4452,\n",
      "          26.4423,   28.6879,   40.9818,   31.0205,   76.5094,   20.2926,\n",
      "          17.1748,  178.6178,   72.3434, 1031.0171,    7.3655,  737.6884,\n",
      "          26.7286,   14.9399,  481.9662,   26.3643,   13.6850,   37.7384,\n",
      "          10.2673,   13.0614,   80.3359,    6.3982,   11.8859,   32.9351,\n",
      "          79.1915,   34.0415,   25.0254,   31.0879,   81.3051,   32.9590,\n",
      "         744.7604,   13.5179,   34.9727,   19.7517,   73.4476,   15.4744,\n",
      "          13.7053,   32.2471,   16.8650,   23.9971], grad_fn=<MaxBackward0>)\n",
      "tensor([0, 6, 7, 5, 1, 9, 2, 5, 8, 4, 0, 8, 4, 2, 1, 2, 7, 8, 3, 3, 7, 7, 0, 4,\n",
      "        3, 9, 9, 5, 5, 3, 7, 4, 5, 4, 3, 4, 9, 0, 4, 3, 1, 3, 6, 8, 5, 0, 8, 3,\n",
      "        5, 8, 6, 3, 5, 5, 4, 2, 9, 2, 8, 0, 2, 8, 1, 6])\n"
     ]
    },
    {
     "name": "stdout",
     "output_type": "stream",
     "text": [
      "tensor([  13.0151,   15.3231,   44.3210,   12.0559,   20.2285,   35.2851,\n",
      "        1424.8833,   10.6372,   58.9798,   21.3912,   39.8232,   12.2817,\n",
      "          21.8470,   10.7425,    9.4790,   22.3820,   14.4044, 1437.7483,\n",
      "          15.0704,    8.7576,   21.3957,   18.4110,   21.2951,   60.7511,\n",
      "          46.6919,   22.3057,   31.0935,   15.7809,   44.9401,   11.1778,\n",
      "           9.3228,   15.2724,   51.2773,   17.6749,   25.7017,   12.4543,\n",
      "          60.8075, 1335.2675,   25.0368,   18.3513,   15.4878,   16.3153,\n",
      "           9.9855,    8.9936,   19.8732,   26.0707,    6.8737,   14.6215,\n",
      "          12.9996,    9.7234,   14.5573,   24.1482,   43.6159,   31.1780,\n",
      "          14.7381,   11.5773,   11.0643,   23.3550,    7.0363,   21.1387,\n",
      "          18.3635,   17.2953,   24.5688,   16.7014], grad_fn=<MaxBackward0>)\n",
      "tensor([6, 0, 3, 2, 2, 3, 4, 2, 5, 3, 3, 9, 6, 9, 8, 6, 0, 4, 3, 2, 9, 1, 7, 9,\n",
      "        9, 9, 3, 7, 8, 7, 0, 0, 8, 3, 3, 1, 9, 4, 3, 6, 7, 3, 3, 8, 6, 5, 7, 0,\n",
      "        7, 2, 0, 9, 3, 3, 1, 7, 0, 6, 2, 2, 2, 2, 2, 2])\n",
      "tensor([1241.5341,   20.2697,   17.0233,   37.8667,   18.9044,   58.9123,\n",
      "          10.1175,   23.8172,   52.7849,   21.1007,   14.7784,   53.2307,\n",
      "          14.3851,   14.6099,   24.0110,   33.6316,   11.4885,   11.9155,\n",
      "          25.5506,   23.1602,   19.4461,   14.1225,   18.3862,    6.0968,\n",
      "          16.2052,   10.5082,   13.1649,   14.9197,    9.9111,   19.5595,\n",
      "          11.1576,   17.9077,   32.9914, 1314.3584,   15.3169,   75.6713,\n",
      "          28.8464,    8.7160,   10.9611,   24.5729,   71.3319,   54.5680,\n",
      "          14.7879,   67.4330,   13.7791,   13.1598,   19.6253,   10.8452,\n",
      "          19.9175,   22.2535,   21.3631,   12.6994,   15.2687,   12.5191,\n",
      "          68.7429,   25.9609,   91.4228,   18.3471,   18.1385,   14.3987,\n",
      "          23.3645,   14.1096,   43.6636,   18.7417], grad_fn=<MaxBackward0>)\n",
      "tensor([4, 6, 7, 9, 3, 9, 8, 2, 3, 8, 0, 5, 7, 0, 6, 3, 1, 2, 2, 2, 1, 6, 1, 1,\n",
      "        7, 6, 9, 7, 0, 9, 7, 0, 3, 4, 0, 9, 3, 6, 1, 5, 5, 5, 7, 9, 7, 0, 0, 0,\n",
      "        2, 9, 9, 0, 8, 6, 5, 9, 9, 2, 6, 1, 6, 2, 5, 6])\n",
      "tensor([1021.3445,   37.9898,  723.4728,   35.5080,   25.9173,   16.3032,\n",
      "           9.9469,   26.7113,  611.5499,   49.2430,   27.8461,   59.5933,\n",
      "          60.9062,   55.3022,   10.6146, 1181.2312,  971.2988,   12.5896,\n",
      "        1360.9833,   15.8033,   65.0087,   45.4123,   66.1812,  838.9854,\n",
      "          26.1243,   16.7374,    7.6759,   13.1641,   15.9950,   45.3442,\n",
      "        1494.4341,   66.3204,   13.4588,   16.9405,  909.9746,   15.3735,\n",
      "          11.1595,    9.4340,   56.5830,   11.4443,   15.1247,   51.1943,\n",
      "           9.1400,   16.6353, 1020.1541,   24.0475,   78.5271,   68.8862,\n",
      "          62.9500,   33.1908,   16.8499,   14.2475,   20.5507,   21.0433,\n",
      "           8.4340,   14.7881,   14.9953,   34.0714,   11.3305,   16.7989,\n",
      "          14.6221,   12.7324,   19.2882,    9.4123], grad_fn=<MaxBackward0>)\n",
      "tensor([4, 9, 4, 3, 3, 1, 0, 3, 4, 9, 2, 8, 5, 8, 2, 4, 4, 8, 4, 8, 8, 9, 9, 4,\n",
      "        1, 8, 9, 0, 0, 9, 4, 5, 0, 0, 4, 3, 1, 0, 5, 2, 7, 9, 0, 0, 4, 2, 5, 5,\n",
      "        9, 2, 3, 1, 0, 0, 1, 0, 0, 9, 2, 7, 1, 7, 0, 6])\n",
      "tensor([  79.3267,   31.2172,   72.1586,   75.8454,   17.6536,   71.9720,\n",
      "          12.3117,    7.5961,   13.2335,   11.9841, 1738.6812,   63.8313,\n",
      "          17.0351,   29.1245,    7.3499,   62.6401, 1498.2196,   11.5118,\n",
      "        1282.9048, 1010.9163,  983.6351,    9.5908,   14.6331,   15.9659,\n",
      "          22.2366,   32.3775,   55.6759,   23.6349, 1390.5736, 1563.8846,\n",
      "          14.4313,   19.9338,   58.7212,   16.0120,   14.5034,   44.1090,\n",
      "          13.4588,   29.1557,   15.7598,   14.3159,   11.7785,   19.2489,\n",
      "          24.5554,   74.0690,    7.9482,   21.4410,   71.9247,  512.1368,\n",
      "          12.8117,    8.9931,   33.9079,    9.7352,  996.2044,   63.2539],\n",
      "       grad_fn=<MaxBackward0>)\n",
      "tensor([5, 9, 5, 5, 6, 8, 1, 0, 2, 7, 4, 5, 7, 9, 8, 9, 4, 1, 4, 4, 4, 8, 6, 0,\n",
      "        3, 9, 5, 6, 4, 4, 2, 6, 5, 6, 2, 3, 0, 3, 6, 1, 0, 0, 3, 5, 0, 8, 5, 4,\n",
      "        3, 2, 2, 2, 4, 8])\n"
     ]
    }
   ],
   "source": [
    "validation_acc = accuracy(validation_loader)"
   ]
  },
  {
   "cell_type": "code",
   "execution_count": 33,
   "id": "1ad1a542",
   "metadata": {},
   "outputs": [
    {
     "name": "stdout",
     "output_type": "stream",
     "text": [
      "Train Accuracy : 0.9530011325028312\n",
      "Test Accuracy : 0.8811659192825112\n",
      "Validation Accuracy : 0.895778364116095\n"
     ]
    }
   ],
   "source": [
    "print(\n",
    "    f\"Train Accuracy : {train_acc}\\nTest Accuracy : {test_acc}\\nValidation Accuracy : {validation_acc}\"\n",
    ")"
   ]
  },
  {
   "cell_type": "code",
   "execution_count": 34,
   "id": "5508883b",
   "metadata": {},
   "outputs": [],
   "source": [
    "transform_index_to_disease = dataset.class_to_idx"
   ]
  },
  {
   "cell_type": "code",
   "execution_count": 35,
   "id": "38fdfd00",
   "metadata": {},
   "outputs": [],
   "source": [
    "transform_index_to_disease = dict(\n",
    "    [(value, key) for key, value in transform_index_to_disease.items()]\n",
    ")  # reverse the index"
   ]
  },
  {
   "cell_type": "code",
   "execution_count": 37,
   "id": "2ebce556",
   "metadata": {},
   "outputs": [],
   "source": [
    "data = pd.read_csv(\"disease_info.csv\", encoding=\"cp1252\")"
   ]
  },
  {
   "cell_type": "code",
   "execution_count": 38,
   "id": "c1b22eb5",
   "metadata": {},
   "outputs": [
    {
     "data": {
      "text/html": [
       "<div>\n",
       "<style scoped>\n",
       "    .dataframe tbody tr th:only-of-type {\n",
       "        vertical-align: middle;\n",
       "    }\n",
       "\n",
       "    .dataframe tbody tr th {\n",
       "        vertical-align: top;\n",
       "    }\n",
       "\n",
       "    .dataframe thead th {\n",
       "        text-align: right;\n",
       "    }\n",
       "</style>\n",
       "<table border=\"1\" class=\"dataframe\">\n",
       "  <thead>\n",
       "    <tr style=\"text-align: right;\">\n",
       "      <th></th>\n",
       "      <th>ï»¿index</th>\n",
       "      <th>disease_name</th>\n",
       "      <th>description</th>\n",
       "    </tr>\n",
       "  </thead>\n",
       "  <tbody>\n",
       "    <tr>\n",
       "      <th>0</th>\n",
       "      <td>0</td>\n",
       "      <td>Apple : Cedar rust</td>\n",
       "      <td>Cedar apple rust (Gymnosporangium juniperi-vir...</td>\n",
       "    </tr>\n",
       "    <tr>\n",
       "      <th>1</th>\n",
       "      <td>1</td>\n",
       "      <td>Apple : Healthy</td>\n",
       "      <td>As with most fruit, apples produce best when g...</td>\n",
       "    </tr>\n",
       "    <tr>\n",
       "      <th>2</th>\n",
       "      <td>2</td>\n",
       "      <td>Cherry : Healthy</td>\n",
       "      <td>There is no difference in care between sour an...</td>\n",
       "    </tr>\n",
       "    <tr>\n",
       "      <th>3</th>\n",
       "      <td>3</td>\n",
       "      <td>Cherry : Powdery Mildew</td>\n",
       "      <td>Initial symptoms, often occurring 7 to 10 days...</td>\n",
       "    </tr>\n",
       "    <tr>\n",
       "      <th>4</th>\n",
       "      <td>4</td>\n",
       "      <td>Corn : Common Rust</td>\n",
       "      <td>Although a few rust pustules can always be fou...</td>\n",
       "    </tr>\n",
       "  </tbody>\n",
       "</table>\n",
       "</div>"
      ],
      "text/plain": [
       "   ï»¿index             disease_name  \\\n",
       "0         0       Apple : Cedar rust   \n",
       "1         1          Apple : Healthy   \n",
       "2         2         Cherry : Healthy   \n",
       "3         3  Cherry : Powdery Mildew   \n",
       "4         4       Corn : Common Rust   \n",
       "\n",
       "                                         description  \n",
       "0  Cedar apple rust (Gymnosporangium juniperi-vir...  \n",
       "1  As with most fruit, apples produce best when g...  \n",
       "2  There is no difference in care between sour an...  \n",
       "3  Initial symptoms, often occurring 7 to 10 days...  \n",
       "4  Although a few rust pustules can always be fou...  "
      ]
     },
     "execution_count": 38,
     "metadata": {},
     "output_type": "execute_result"
    }
   ],
   "source": [
    "data.head()"
   ]
  },
  {
   "cell_type": "code",
   "execution_count": 39,
   "id": "0e75cb12",
   "metadata": {},
   "outputs": [],
   "source": [
    "from PIL import Image\n",
    "import torchvision.transforms.functional as TF"
   ]
  },
  {
   "cell_type": "code",
   "execution_count": 40,
   "id": "7cb61fab",
   "metadata": {},
   "outputs": [],
   "source": [
    "def single_prediction(image_path):\n",
    "    image = Image.open(image_path)\n",
    "    image = image.resize((224, 224))\n",
    "    input_data = TF.to_tensor(image)\n",
    "    input_data = input_data.view((-1, 3, 224, 224))\n",
    "    output = model(input_data)\n",
    "    output = output.detach().numpy()\n",
    "    index = np.argmax(output)\n",
    "    print(\"Original : \", image_path[12:-4])\n",
    "    pred_csv = data[\"disease_name\"][index]\n",
    "    print(pred_csv)"
   ]
  },
  {
   "cell_type": "code",
   "execution_count": 41,
   "id": "7bc4d379",
   "metadata": {},
   "outputs": [
    {
     "name": "stdout",
     "output_type": "stream",
     "text": [
      "Original :  e___Cedar_apple_rust/image (1)\n",
      "Apple : Cedar rust\n"
     ]
    }
   ],
   "source": [
    "single_prediction(\"dataset/Apple___Cedar_apple_rust/image (1).JPG\")"
   ]
  },
  {
   "cell_type": "code",
   "execution_count": 42,
   "id": "19a859b0",
   "metadata": {},
   "outputs": [
    {
     "name": "stdout",
     "output_type": "stream",
     "text": [
      "Original :  e___Cedar_apple_rust/image (100)\n",
      "Apple : Cedar rust\n"
     ]
    }
   ],
   "source": [
    "single_prediction(\"dataset/Apple___Cedar_apple_rust/image (100).JPG\")"
   ]
  },
  {
   "cell_type": "code",
   "execution_count": 45,
   "id": "b03d9c12",
   "metadata": {},
   "outputs": [
    {
     "name": "stdout",
     "output_type": "stream",
     "text": [
      "Original :  e___healthy/image (100)\n",
      "Apple : Cedar rust\n"
     ]
    }
   ],
   "source": [
    "single_prediction(\"dataset/Apple___healthy/image (100).JPG\")"
   ]
  },
  {
   "cell_type": "code",
   "execution_count": 46,
   "id": "af9432ca",
   "metadata": {},
   "outputs": [
    {
     "name": "stdout",
     "output_type": "stream",
     "text": [
      "Original :  e___healthy/image (1)\n",
      "Apple : Healthy\n"
     ]
    }
   ],
   "source": [
    "single_prediction(\"dataset/Apple___healthy/image (1).JPG\")"
   ]
  },
  {
   "cell_type": "code",
   "execution_count": 47,
   "id": "726928e7",
   "metadata": {},
   "outputs": [
    {
     "name": "stdout",
     "output_type": "stream",
     "text": [
      "Original :  e___healthy/image (2)\n",
      "Peach : Bacterial Spot\n"
     ]
    }
   ],
   "source": [
    "single_prediction(\"dataset/Apple___healthy/image (2).JPG\")"
   ]
  },
  {
   "cell_type": "code",
   "execution_count": 48,
   "id": "1135f62f",
   "metadata": {},
   "outputs": [
    {
     "name": "stdout",
     "output_type": "stream",
     "text": [
      "Original :  e___healthy/image (10)\n",
      "Apple : Healthy\n"
     ]
    }
   ],
   "source": [
    "single_prediction(\"dataset/Apple___healthy/image (10).JPG\")"
   ]
  },
  {
   "cell_type": "code",
   "execution_count": 57,
   "id": "d851341b",
   "metadata": {},
   "outputs": [
    {
     "name": "stdout",
     "output_type": "stream",
     "text": [
      "Original :  ry___Powdery_mildew//image (8)\n",
      "Apple : Cedar rust\n"
     ]
    }
   ],
   "source": [
    "single_prediction(\"dataset/Cherry___Powdery_mildew//image (8).JPG\")\n",
    "#wrong"
   ]
  },
  {
   "cell_type": "code",
   "execution_count": 64,
   "id": "90dd8891",
   "metadata": {},
   "outputs": [
    {
     "name": "stdout",
     "output_type": "stream",
     "text": [
      "Original :  ry___healthy/image (134)\n",
      "Peach : Healthy\n"
     ]
    }
   ],
   "source": [
    "single_prediction(\"dataset/Cherry___healthy/image (134).JPG\")\n",
    "#wrong"
   ]
  },
  {
   "cell_type": "code",
   "execution_count": 65,
   "id": "825fbc9d",
   "metadata": {},
   "outputs": [
    {
     "name": "stdout",
     "output_type": "stream",
     "text": [
      "Original :  ___Common_rust/image (134)\n",
      "Corn : Common Rust\n"
     ]
    }
   ],
   "source": [
    "single_prediction(\"dataset/Corn___Common_rust/image (134).JPG\")"
   ]
  },
  {
   "cell_type": "code",
   "execution_count": 68,
   "id": "92aa0cc4",
   "metadata": {},
   "outputs": [
    {
     "name": "stdout",
     "output_type": "stream",
     "text": [
      "Original :  ___healthy/image (136)\n",
      "Corn : Healthy\n"
     ]
    }
   ],
   "source": [
    "single_prediction(\"dataset/Corn___healthy/image (136).JPG\")"
   ]
  },
  {
   "cell_type": "code",
   "execution_count": 69,
   "id": "f65ac602",
   "metadata": {},
   "outputs": [
    {
     "name": "stdout",
     "output_type": "stream",
     "text": [
      "Original :  e___Esca_(Black_Measles)/image (136)\n",
      "Grape : Esca | Black Measles\n"
     ]
    }
   ],
   "source": [
    "single_prediction(\"dataset/Grape___Esca_(Black_Measles)/image (136).JPG\")"
   ]
  },
  {
   "cell_type": "code",
   "execution_count": 70,
   "id": "3d3251d0",
   "metadata": {},
   "outputs": [
    {
     "name": "stdout",
     "output_type": "stream",
     "text": [
      "Original :  e___healthy/image (136)\n",
      "Grape : Healthy\n"
     ]
    }
   ],
   "source": [
    "single_prediction(\"dataset/Grape___healthy/image (136).JPG\")"
   ]
  },
  {
   "cell_type": "code",
   "execution_count": 73,
   "id": "025def08",
   "metadata": {},
   "outputs": [
    {
     "name": "stdout",
     "output_type": "stream",
     "text": [
      "Original :  h___Bacterial_spot/image (111)\n",
      "Peach : Bacterial Spot\n"
     ]
    }
   ],
   "source": [
    "single_prediction(\"dataset/Peach___Bacterial_spot/image (111).JPG\")"
   ]
  },
  {
   "cell_type": "code",
   "execution_count": 74,
   "id": "57d4ead9",
   "metadata": {},
   "outputs": [
    {
     "name": "stdout",
     "output_type": "stream",
     "text": [
      "Original :  h___healthy/image (127)\n",
      "Peach : Healthy\n"
     ]
    }
   ],
   "source": [
    "single_prediction(\"dataset/Peach___healthy/image (127).JPG\")"
   ]
  },
  {
   "cell_type": "code",
   "execution_count": null,
   "id": "bef4425c",
   "metadata": {},
   "outputs": [],
   "source": []
  }
 ],
 "metadata": {
  "kernelspec": {
   "display_name": "Python 3 (ipykernel)",
   "language": "python",
   "name": "python3"
  },
  "language_info": {
   "codemirror_mode": {
    "name": "ipython",
    "version": 3
   },
   "file_extension": ".py",
   "mimetype": "text/x-python",
   "name": "python",
   "nbconvert_exporter": "python",
   "pygments_lexer": "ipython3",
   "version": "3.9.7"
  }
 },
 "nbformat": 4,
 "nbformat_minor": 5
}
